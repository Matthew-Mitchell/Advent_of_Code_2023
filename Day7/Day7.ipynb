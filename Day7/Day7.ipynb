{
 "cells": [
  {
   "cell_type": "code",
   "execution_count": 27,
   "metadata": {},
   "outputs": [],
   "source": [
    "from collections import Counter\n",
    "import numpy as np"
   ]
  },
  {
   "cell_type": "code",
   "execution_count": 48,
   "metadata": {},
   "outputs": [
    {
     "data": {
      "text/plain": [
       "'332'"
      ]
     },
     "execution_count": 48,
     "metadata": {},
     "output_type": "execute_result"
    }
   ],
   "source": [
    "\"33J2JJ\".replace(\"J\",\"\")"
   ]
  },
  {
   "cell_type": "code",
   "execution_count": 58,
   "metadata": {},
   "outputs": [],
   "source": [
    "def rank_hand(hand):\n",
    "    values = Counter(hand)\n",
    "    largest_set = values.most_common()[0]\n",
    "\n",
    "    #Translate to a tiebreaker string\n",
    "    order = \"AKQJT987654321\"\n",
    "    order = order[::-1] #reverse the order\n",
    "    order = list(order)\n",
    "    crm = 'abcdefghijklmn' #Card Rank Mapping\n",
    "    tiebreaker = \"\".join([crm[order.index(c)] for c in hand])\n",
    "    if largest_set[1] == 5:\n",
    "            #Four of a kind!\n",
    "            rank = 9\n",
    "    elif largest_set[1] == 4:\n",
    "            #Four of a kind!\n",
    "            rank = 8\n",
    "    elif (largest_set[1]==3) and (values.most_common()[1][1]>=2):\n",
    "            rank = 7\n",
    "            #Full House!\n",
    "    elif (largest_set[1]==3):\n",
    "            #Three of a kind!\n",
    "            rank =4\n",
    "    elif (largest_set[1]==2) and (values.most_common()[1][1]==2):\n",
    "        #Two Pair!\n",
    "        rank = 3\n",
    "    elif largest_set[1]==2:\n",
    "        #Pair\n",
    "        rank = 2\n",
    "    else:\n",
    "        #The lonely high card....\n",
    "        rank = 1\n",
    "    return (rank, tiebreaker)\n",
    "\n",
    "def rank_joker_hand(hand):\n",
    "    #Translate to a tiebreaker string\n",
    "    order = \"AKQT98765432J\" #Jokers low for wildcard\n",
    "    order = order[::-1] #reverse the order\n",
    "    order = list(order)\n",
    "    crm = 'abcdefghijklm' #Card Rank Mapping\n",
    "    tiebreaker = \"\".join([crm[order.index(c)] for c in hand])\n",
    "    #Remove All Jokers\n",
    "    hand = hand.replace(\"J\",\"\") #remove jokers\n",
    "    njokers = 5 - len(hand)\n",
    "    #If all jokers, values.most_common() will not exist and throw an error\n",
    "    if njokers ==5:\n",
    "        rank = 9\n",
    "        return (rank, tiebreaker)\n",
    "    values = Counter(hand)\n",
    "    largest_set = values.most_common()[0]\n",
    "    if (largest_set[1]+njokers) == 5:\n",
    "            #Four of a kind!\n",
    "            rank = 9\n",
    "    elif (largest_set[1]+njokers) == 4:\n",
    "            #Four of a kind!\n",
    "            rank = 8\n",
    "    elif (largest_set[1]+njokers == 3) and (values.most_common()[1][1]>=2):\n",
    "            rank = 7\n",
    "            #Full House!\n",
    "    elif (largest_set[1]+njokers==3):\n",
    "            #Three of a kind!\n",
    "            rank =4\n",
    "    elif (largest_set[1]+njokers==2) and (values.most_common()[1][1]==2):\n",
    "        #Two Pair!\n",
    "        rank = 3\n",
    "    elif (largest_set[1]+njokers)==2:\n",
    "        #Pair\n",
    "        rank = 2\n",
    "    else:\n",
    "        #The lonely high card....not possible with jokers\n",
    "        rank = 1\n",
    "    return (rank, tiebreaker)\n",
    "\n",
    "class Poker:\n",
    "    def __init__(self, file, wildcards = False):\n",
    "        hands_and_bids = []\n",
    "        with open(file, 'r') as f:\n",
    "            for line in f.readlines():\n",
    "                hand, bid = line.split()\n",
    "                hands_and_bids.append((hand, int(bid)))\n",
    "        self.hands_and_bids = hands_and_bids\n",
    "        self.wildcards = wildcards\n",
    "    def sort_hands(self):\n",
    "        hbrt = [] #Hands, Bids, Rank, Tiebreaker\n",
    "        for hand, bid in self.hands_and_bids:\n",
    "            if self.wildcards:\n",
    "                  rank, tiebreaker = rank_joker_hand(hand)\n",
    "            else:\n",
    "                rank, tiebreaker = rank_hand(hand)\n",
    "            hbrt.append((hand, bid, rank, tiebreaker))\n",
    "        self.hbrt = sorted(hbrt, key=lambda x: (x[2], x[3]))\n",
    "    def score_game(self):\n",
    "        if 'hbrt' in self.__dict__.keys():\n",
    "            pass\n",
    "        else:\n",
    "            self.sort_hands()\n",
    "        score = np.sum([m*b for m, b in list(zip(range(1, len(self.hbrt)+1), [x[1] for x in self.hbrt]))])\n",
    "        print(\"Game score: {}\".format(score))\n",
    "        "
   ]
  },
  {
   "cell_type": "code",
   "execution_count": 59,
   "metadata": {},
   "outputs": [
    {
     "name": "stdout",
     "output_type": "stream",
     "text": [
      "Game score: 6440\n"
     ]
    }
   ],
   "source": [
    "p = Poker(\"ex.txt\")\n",
    "# p.sort_hands()\n",
    "# p.hbrt\n",
    "p.score_game()"
   ]
  },
  {
   "cell_type": "code",
   "execution_count": 60,
   "metadata": {},
   "outputs": [
    {
     "name": "stdout",
     "output_type": "stream",
     "text": [
      "Game score: 248422077\n"
     ]
    }
   ],
   "source": [
    "p = Poker(\"input.txt\")\n",
    "p.score_game()"
   ]
  },
  {
   "cell_type": "code",
   "execution_count": 61,
   "metadata": {},
   "outputs": [
    {
     "name": "stdout",
     "output_type": "stream",
     "text": [
      "Game score: 5905\n"
     ]
    }
   ],
   "source": [
    "p = Poker(\"ex.txt\", wildcards=True)\n",
    "p.score_game()"
   ]
  },
  {
   "cell_type": "code",
   "execution_count": 62,
   "metadata": {},
   "outputs": [
    {
     "name": "stdout",
     "output_type": "stream",
     "text": [
      "Game score: 249817836\n"
     ]
    }
   ],
   "source": [
    "p = Poker(\"input.txt\", wildcards=True)\n",
    "p.score_game()"
   ]
  },
  {
   "cell_type": "code",
   "execution_count": null,
   "metadata": {},
   "outputs": [],
   "source": []
  }
 ],
 "metadata": {
  "kernelspec": {
   "display_name": "Python 3 (ipykernel)",
   "language": "python",
   "name": "python3"
  },
  "language_info": {
   "codemirror_mode": {
    "name": "ipython",
    "version": 3
   },
   "file_extension": ".py",
   "mimetype": "text/x-python",
   "name": "python",
   "nbconvert_exporter": "python",
   "pygments_lexer": "ipython3",
   "version": "3.7.4"
  }
 },
 "nbformat": 4,
 "nbformat_minor": 2
}
