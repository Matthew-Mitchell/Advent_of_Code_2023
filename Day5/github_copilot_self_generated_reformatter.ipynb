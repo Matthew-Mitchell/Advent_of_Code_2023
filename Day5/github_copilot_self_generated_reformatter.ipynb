{
 "cells": [
  {
   "cell_type": "markdown",
   "metadata": {},
   "source": [
    "## Original Code Generation:"
   ]
  },
  {
   "cell_type": "code",
   "execution_count": 2,
   "metadata": {},
   "outputs": [
    {
     "name": "stdout",
     "output_type": "stream",
     "text": [
      "Key 'conversations' not found in the JSON data.\n"
     ]
    },
    {
     "ename": "KeyError",
     "evalue": "'conversations'",
     "output_type": "error",
     "traceback": [
      "\u001b[0;31m---------------------------------------------------------------------------\u001b[0m",
      "\u001b[0;31mKeyError\u001b[0m                                  Traceback (most recent call last)",
      "\u001b[0;32m/var/folders/88/p0ht7fsn1tgbzvckzxgbf7cm0000gn/T/ipykernel_17070/1407756413.py\u001b[0m in \u001b[0;36m<module>\u001b[0;34m\u001b[0m\n\u001b[1;32m     28\u001b[0m \u001b[0;32mwith\u001b[0m \u001b[0mopen\u001b[0m\u001b[0;34m(\u001b[0m\u001b[0;34m'copilot_chat_self_reformatted.txt'\u001b[0m\u001b[0;34m,\u001b[0m \u001b[0;34m'w'\u001b[0m\u001b[0;34m)\u001b[0m \u001b[0;32mas\u001b[0m \u001b[0mtext_file\u001b[0m\u001b[0;34m:\u001b[0m\u001b[0;34m\u001b[0m\u001b[0;34m\u001b[0m\u001b[0m\n\u001b[1;32m     29\u001b[0m     \u001b[0;31m# Iterate over the conversations\u001b[0m\u001b[0;34m\u001b[0m\u001b[0;34m\u001b[0m\u001b[0;34m\u001b[0m\u001b[0m\n\u001b[0;32m---> 30\u001b[0;31m     \u001b[0;32mfor\u001b[0m \u001b[0mconversation\u001b[0m \u001b[0;32min\u001b[0m \u001b[0mdata\u001b[0m\u001b[0;34m[\u001b[0m\u001b[0;34m'conversations'\u001b[0m\u001b[0;34m]\u001b[0m\u001b[0;34m:\u001b[0m\u001b[0;34m\u001b[0m\u001b[0;34m\u001b[0m\u001b[0m\n\u001b[0m\u001b[1;32m     31\u001b[0m         \u001b[0;31m# Retrieve the necessary elements\u001b[0m\u001b[0;34m\u001b[0m\u001b[0;34m\u001b[0m\u001b[0;34m\u001b[0m\u001b[0m\n\u001b[1;32m     32\u001b[0m         \u001b[0mrequesterUsername\u001b[0m \u001b[0;34m=\u001b[0m \u001b[0mconversation\u001b[0m\u001b[0;34m[\u001b[0m\u001b[0;34m'requesterUsername'\u001b[0m\u001b[0;34m]\u001b[0m\u001b[0;34m\u001b[0m\u001b[0;34m\u001b[0m\u001b[0m\n",
      "\u001b[0;31mKeyError\u001b[0m: 'conversations'"
     ]
    }
   ],
   "source": [
    "import json\n",
    "\n",
    "# Open and load the JSON file\n",
    "with open('chat.json', 'r') as json_file:\n",
    "    data = json.load(json_file)\n",
    "\n",
    "# Check if 'conversations' key exists in data\n",
    "if 'conversations' in data:\n",
    "    # BEGIN: ed8c6549bwf9\n",
    "    with open('copilot_chat_self_reformatted.txt', 'w') as text_file:\n",
    "        # Iterate over the conversations\n",
    "        for conversation in data['conversations']:\n",
    "            # Retrieve the necessary elements\n",
    "            requesterUsername = conversation['requesterUsername']\n",
    "            text_input = conversation['input']['text']\n",
    "            responderUser = conversation['responderUser']\n",
    "            answer = conversation['response'][0]['value']\n",
    "\n",
    "            # Write the elements to the text file\n",
    "            text_file.write(f'Requester: {requesterUsername}\\n')\n",
    "            text_file.write(f'Input: {text_input}\\n')\n",
    "            text_file.write(f'Responder: {responderUser}\\n')\n",
    "            text_file.write(f'Answer: {answer}\\n\\n')\n",
    "    # END: ed8c6549bwf9\n",
    "else:\n",
    "    print(\"Key 'conversations' not found in the JSON data.\")\n",
    "\n",
    "\n",
    "with open('copilot_chat_self_reformatted.txt', 'w') as text_file:\n",
    "    # Iterate over the conversations\n",
    "    for conversation in data['conversations']:\n",
    "        # Retrieve the necessary elements\n",
    "        requesterUsername = conversation['requesterUsername']\n",
    "        text_input = conversation['input']['text']\n",
    "        responderUser = conversation['responderUser']\n",
    "        answer = conversation['response'][0]['value']\n",
    "\n",
    "        # Write the elements to the text file\n",
    "        text_file.write(f'Requester: {requesterUsername}\\n')\n",
    "        text_file.write(f'Input: {text_input}\\n')\n",
    "        text_file.write(f'Responder: {responderUser}\\n')\n",
    "        text_file.write(f'Answer: {answer}\\n\\n')"
   ]
  },
  {
   "cell_type": "markdown",
   "metadata": {},
   "source": []
  }
 ],
 "metadata": {
  "kernelspec": {
   "display_name": "Python 3 (ipykernel)",
   "language": "python",
   "name": "python3"
  },
  "language_info": {
   "codemirror_mode": {
    "name": "ipython",
    "version": 3
   },
   "file_extension": ".py",
   "mimetype": "text/x-python",
   "name": "python",
   "nbconvert_exporter": "python",
   "pygments_lexer": "ipython3",
   "version": "3.7.4"
  }
 },
 "nbformat": 4,
 "nbformat_minor": 2
}
