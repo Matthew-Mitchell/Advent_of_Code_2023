{
 "cells": [
  {
   "cell_type": "code",
   "execution_count": 1,
   "metadata": {},
   "outputs": [],
   "source": [
    "%load_ext autoreload"
   ]
  },
  {
   "cell_type": "code",
   "execution_count": 2,
   "metadata": {},
   "outputs": [],
   "source": [
    "%autoreload 1"
   ]
  },
  {
   "cell_type": "code",
   "execution_count": 3,
   "metadata": {},
   "outputs": [],
   "source": [
    "%aimport main"
   ]
  },
  {
   "cell_type": "code",
   "execution_count": 4,
   "metadata": {},
   "outputs": [
    {
     "name": "stdout",
     "output_type": "stream",
     "text": [
      "Modules to reload:\n",
      "main\n",
      "\n",
      "Modules to skip:\n",
      "\n"
     ]
    }
   ],
   "source": [
    "%aimport"
   ]
  },
  {
   "cell_type": "markdown",
   "metadata": {},
   "source": [
    "# Outline for Djikstra:\n",
    "1. Mark all nodes as unvisited\n",
    "2. Set the distance of the starting node as 0, and infinity for all other nodes\n",
    "3. Set the starting node as the current node\n",
    "4. Visit each of the neighbors of the current node\n",
    "    a. For each neighbor, calculate the distance to that node traveling through the current node\n",
    "    b. If this distance is less then the current distance recorded for that node, update the record accordingly\n",
    "5. . Mark the current node as \"visited\"\n",
    "6. Of the unvisited nodes, set the one with the smallest distance to the current node\n",
    "7. Repeat steps 4 through 6 until one of the following:\n",
    "    a. The algorithm terminates when the destination node is the current node\n",
    "    b. Alternatively, if the smallest distance of the unvisited nodes is, then no path exists to the destination node."
   ]
  },
  {
   "cell_type": "code",
   "execution_count": 14,
   "metadata": {},
   "outputs": [
    {
     "name": "stdout",
     "output_type": "stream",
     "text": [
      "On step: 6 from: BBB to: ZZZ via: R\n",
      "Journey Completed! Process took: 6\n"
     ]
    }
   ],
   "source": [
    "mm = main.main()\n",
    "mm.read(\"ex.txt\")\n",
    "mm.pathlength()"
   ]
  },
  {
   "cell_type": "code",
   "execution_count": 15,
   "metadata": {},
   "outputs": [
    {
     "name": "stdout",
     "output_type": "stream",
     "text": [
      "On step: 100 from: GDL to: KTX via: R\n",
      "On step: 200 from: RKG to: PQV via: R\n",
      "On step: 300 from: BNB to: GDL via: L\n",
      "On step: 400 from: VSX to: RKG via: R\n",
      "On step: 500 from: TDV to: XVV via: R\n",
      "On step: 600 from: VCD to: VSX via: L\n",
      "On step: 700 from: CQV to: GGV via: R\n",
      "On step: 800 from: BGK to: VCD via: R\n",
      "On step: 900 from: TVQ to: FRR via: R\n",
      "On step: 1000 from: PVR to: JHM via: R\n",
      "On step: 1100 from: MFB to: SMD via: R\n",
      "On step: 1200 from: NLD to: VTD via: R\n",
      "On step: 1300 from: TPJ to: SHN via: R\n",
      "On step: 1400 from: JQJ to: NLD via: R\n",
      "On step: 1500 from: BLL to: TPJ via: R\n",
      "On step: 1600 from: PNN to: TKR via: R\n",
      "On step: 1700 from: VSF to: BLL via: L\n",
      "On step: 1800 from: JJR to: HPG via: R\n",
      "On step: 1900 from: KVS to: VSF via: L\n",
      "On step: 2000 from: KSH to: JJR via: L\n",
      "On step: 2100 from: NFR to: CLH via: R\n",
      "On step: 2200 from: BFC to: KSH via: R\n",
      "On step: 2300 from: VRH to: BGS via: R\n",
      "On step: 2400 from: PDM to: BFC via: L\n",
      "On step: 2500 from: PPK to: HGS via: R\n",
      "On step: 2600 from: SQG to: FCP via: L\n",
      "On step: 2700 from: RGM to: PPK via: R\n",
      "On step: 2800 from: KMH to: SQG via: R\n",
      "On step: 2900 from: CCL to: VJQ via: L\n",
      "On step: 3000 from: SFG to: DKD via: R\n",
      "On step: 3100 from: CVB to: CCL via: L\n",
      "On step: 3200 from: VPV to: SSB via: L\n",
      "On step: 3300 from: NTK to: QGV via: R\n",
      "On step: 3400 from: LQN to: RFH via: R\n",
      "On step: 3500 from: TMB to: NTK via: L\n",
      "On step: 3600 from: CKX to: FXX via: L\n",
      "On step: 3700 from: CGX to: TMB via: R\n",
      "On step: 3800 from: JCT to: DDB via: L\n",
      "On step: 3900 from: NNT to: JVS via: R\n",
      "On step: 4000 from: QNC to: SBD via: L\n",
      "On step: 4100 from: VNQ to: NNT via: L\n",
      "On step: 4200 from: CRR to: QNC via: L\n",
      "On step: 4300 from: TNT to: FNL via: L\n",
      "On step: 4400 from: BMD to: CRR via: R\n",
      "On step: 4500 from: CJS to: TNT via: L\n",
      "On step: 4600 from: DSL to: GVK via: R\n",
      "On step: 4700 from: CQS to: CJS via: R\n",
      "On step: 4800 from: KHJ to: DSL via: L\n",
      "On step: 4900 from: TPF to: CQS via: R\n",
      "On step: 5000 from: MGM to: FRL via: L\n",
      "On step: 5100 from: XCG to: TPF via: L\n",
      "On step: 5200 from: VDP to: GFQ via: R\n",
      "On step: 5300 from: HGT to: MCS via: L\n",
      "On step: 5400 from: FCT to: SNH via: R\n",
      "On step: 5500 from: FQN to: HGT via: L\n",
      "On step: 5600 from: XFB to: FCT via: R\n",
      "On step: 5700 from: CHB to: MFC via: L\n",
      "On step: 5800 from: JTT to: MQB via: R\n",
      "On step: 5900 from: QHX to: MXF via: R\n",
      "On step: 6000 from: GVN to: JTT via: L\n",
      "On step: 6100 from: QDT to: QHX via: R\n",
      "On step: 6200 from: MFK to: NMN via: L\n",
      "On step: 6300 from: RNM to: DDC via: R\n",
      "On step: 6400 from: TSN to: PCV via: L\n",
      "On step: 6500 from: QBR to: RNM via: R\n",
      "On step: 6600 from: KTX to: VHL via: L\n",
      "On step: 6700 from: PQV to: CJH via: L\n",
      "On step: 6800 from: GDL to: KTX via: R\n",
      "On step: 6900 from: RKG to: PQV via: R\n",
      "On step: 7000 from: XVV to: GDL via: R\n",
      "On step: 7100 from: DDR to: RKG via: L\n",
      "On step: 7200 from: GGV to: XVV via: L\n",
      "On step: 7300 from: VDB to: VSX via: R\n",
      "On step: 7400 from: FRR to: GGV via: R\n",
      "On step: 7500 from: JHM to: VDB via: L\n",
      "On step: 7600 from: SMD to: CQV via: L\n",
      "On step: 7700 from: VTD to: BGK via: L\n",
      "On step: 7800 from: MFB to: SMD via: R\n",
      "On step: 7900 from: NLD to: PVR via: L\n",
      "On step: 8000 from: LJK to: MFB via: R\n",
      "On step: 8100 from: TKR to: HKT via: L\n",
      "On step: 8200 from: HCN to: LJK via: R\n",
      "On step: 8300 from: HPG to: JQJ via: L\n",
      "On step: 8400 from: VSF to: HCN via: R\n",
      "On step: 8500 from: JHJ to: HPG via: R\n",
      "On step: 8600 from: CLH to: PRK via: R\n",
      "On step: 8700 from: KSH to: JJR via: L\n",
      "On step: 8800 from: BGS to: CLH via: R\n",
      "On step: 8900 from: BFC to: KSH via: R\n",
      "On step: 9000 from: HGS to: BGS via: L\n",
      "On step: 9100 from: PDM to: XBB via: R\n",
      "On step: 9200 from: NPG to: HGS via: R\n",
      "On step: 9300 from: SQG to: PDM via: R\n",
      "On step: 9400 from: RGM to: NPG via: L\n",
      "On step: 9500 from: KMH to: TVM via: L\n",
      "On step: 9600 from: PFB to: VJQ via: R\n",
      "On step: 9700 from: SFG to: DKD via: R\n",
      "On step: 9800 from: QGV to: CCL via: L\n",
      "On step: 9900 from: VPV to: SFG via: R\n",
      "On step: 10000 from: NPR to: QGV via: L\n",
      "On step: 10100 from: LQN to: RFH via: R\n",
      "On step: 10200 from: JPF to: NTK via: L\n",
      "On step: 10300 from: DDB to: FXX via: R\n",
      "On step: 10400 from: CGX to: TMB via: R\n",
      "On step: 10500 from: JCT to: DDB via: L\n",
      "On step: 10600 from: NNT to: JVS via: R\n",
      "On step: 10700 from: QNC to: JCT via: R\n",
      "On step: 10800 from: FNL to: NNT via: L\n",
      "On step: 10900 from: CRR to: QNC via: L\n",
      "On step: 11000 from: RNF to: FNL via: R\n",
      "On step: 11100 from: GVK to: KPL via: L\n",
      "On step: 11200 from: CJS to: TNT via: L\n",
      "On step: 11300 from: DSL to: GVK via: R\n",
      "On step: 11400 from: RLQ to: CJS via: R\n",
      "On step: 11500 from: KHJ to: DSL via: L\n",
      "On step: 11600 from: HBM to: RLQ via: R\n",
      "On step: 11700 from: MGM to: FRL via: L\n",
      "On step: 11800 from: XCG to: HBM via: R\n",
      "On step: 11900 from: SNH to: MGM via: R\n",
      "On step: 12000 from: HGT to: MCS via: L\n",
      "On step: 12100 from: FCT to: VDP via: L\n",
      "On step: 12200 from: MFC to: HGT via: R\n",
      "On step: 12300 from: MQB to: JCS via: R\n",
      "On step: 12400 from: CHB to: MFC via: R\n",
      "On step: 12500 from: SPH to: XFB via: R\n",
      "On step: 12600 from: PHQ to: CHB via: R\n",
      "On step: 12700 from: GVN to: SPH via: R\n",
      "On step: 12800 from: DDC to: PHQ via: L\n",
      "On step: 12900 from: MFK to: GVN via: R\n",
      "On step: 13000 from: JRQ to: QDT via: L\n",
      "On step: 13100 from: VHL to: PCV via: R\n",
      "On step: 13200 from: QBR to: RNM via: R\n",
      "On step: 13300 from: KTX to: TSN via: R\n",
      "On step: 13400 from: BCJ to: CJH via: R\n",
      "On step: 13500 from: GDL to: KTX via: R\n",
      "On step: 13600 from: RKG to: PQV via: R\n",
      "On step: 13700 from: XVV to: XLX via: L\n",
      "On step: 13800 from: VSX to: RKG via: R\n",
      "On step: 13900 from: GGV to: XVV via: L\n",
      "On step: 14000 from: VDB to: DDR via: L\n",
      "On step: 14100 from: FRR to: TDV via: L\n",
      "On step: 14200 from: JHM to: VDB via: L\n",
      "On step: 14300 from: TVQ to: FRR via: R\n",
      "On step: 14400 from: PVR to: JHM via: R\n",
      "On step: 14500 from: MFB to: TVQ via: L\n",
      "On step: 14600 from: NLD to: PVR via: L\n",
      "On step: 14700 from: TPJ to: MFB via: L\n",
      "On step: 14800 from: TKR to: HKT via: L\n",
      "On step: 14900 from: HCN to: TPJ via: L\n",
      "On step: 15000 from: HPG to: JQJ via: L\n",
      "On step: 15100 from: PRK to: BLL via: L\n",
      "On step: 15200 from: JJR to: HPG via: R\n",
      "On step: 15300 from: KVS to: VSF via: L\n",
      "On step: 15400 from: KSH to: JJR via: L\n",
      "On step: 15500 from: BGS to: KVS via: L\n",
      "On step: 15600 from: XBB to: KSH via: R\n",
      "On step: 15700 from: VRH to: BGS via: R\n",
      "On step: 15800 from: PDM to: XBB via: R\n",
      "On step: 15900 from: NPG to: HGS via: R\n",
      "On step: 16000 from: TVM to: FCP via: L\n",
      "On step: 16100 from: VJQ to: NPG via: L\n",
      "On step: 16200 from: KMH to: SQG via: R\n",
      "On step: 16300 from: PFB to: VJQ via: R\n",
      "On step: 16400 from: SSB to: KMH via: L\n",
      "On step: 16500 from: CVB to: CCL via: L\n",
      "On step: 16600 from: VPV to: SSB via: L\n",
      "On step: 16700 from: NPR to: CVB via: R\n",
      "On step: 16800 from: LQN to: RFH via: R\n",
      "On step: 16900 from: TMB to: NTK via: L\n",
      "On step: 17000 from: DDB to: FXX via: R\n",
      "On step: 17100 from: JVS to: TMB via: L\n",
      "On step: 17200 from: JCT to: CKX via: R\n",
      "On step: 17300 from: NNT to: JVS via: R\n",
      "On step: 17400 from: JMC to: SBD via: R\n",
      "On step: 17500 from: VNQ to: NNT via: L\n",
      "On step: 17600 from: CRR to: QNC via: L\n",
      "On step: 17700 from: RNF to: FNL via: R\n",
      "On step: 17800 from: BMD to: CRR via: R\n",
      "On step: 17900 from: CJS to: TNT via: L\n",
      "On step: 18000 from: DSL to: GVK via: R\n",
      "On step: 18100 from: CQS to: TTB via: L\n",
      "On step: 18200 from: KHJ to: PNB via: R\n",
      "On step: 18300 from: HBM to: RLQ via: R\n",
      "On step: 18400 from: GFQ to: KHJ via: R\n",
      "On step: 18500 from: XCG to: HBM via: R\n",
      "On step: 18600 from: SNH to: GFQ via: L\n",
      "On step: 18700 from: HGT to: XCG via: R\n",
      "On step: 18800 from: JCS to: SNH via: L\n",
      "On step: 18900 from: MFC to: HGT via: L\n",
      "On step: 19000 from: XFB to: JCS via: L\n",
      "On step: 19100 from: CHB to: MFC via: R\n",
      "On step: 19200 from: JTT to: MQB via: R\n",
      "On step: 19300 from: QHX to: CHB via: L\n",
      "On step: 19400 from: NMN to: JTT via: R\n",
      "On step: 19500 from: QDT to: PHQ via: L\n",
      "On step: 19600 from: MFK to: GVN via: R\n",
      "On step: 19700 from: JRQ to: QDT via: L\n",
      "On step: 19800 from: VHL to: PCV via: R\n",
      "On step: 19900 from: CJH to: JRQ via: R\n",
      "On step: 20000 from: KTX to: VHL via: L\n",
      "On step: 20100 from: BCJ to: CJH via: R\n",
      "On step: 20200 from: GDL to: GCR via: L\n",
      "On step: 20300 from: VDM to: BCJ via: R\n",
      "On step: 20400 from: BNB to: XLX via: R\n",
      "On step: 20500 from: DDR to: RKG via: L\n",
      "On step: 20575 from: FQN to: ZZZ via: R\n",
      "Journey Completed! Process took: 20575\n"
     ]
    }
   ],
   "source": [
    "mm.read(\"input.txt\")\n",
    "mm.pathlength()"
   ]
  },
  {
   "cell_type": "code",
   "execution_count": 7,
   "metadata": {},
   "outputs": [
    {
     "data": {
      "text/plain": [
       "20575"
      ]
     },
     "execution_count": 7,
     "metadata": {},
     "output_type": "execute_result"
    }
   ],
   "source": [
    "mm.stepcount"
   ]
  },
  {
   "cell_type": "code",
   "execution_count": 8,
   "metadata": {},
   "outputs": [
    {
     "name": "stdout",
     "output_type": "stream",
     "text": [
      "LRLRLLRLLRRRLRLLRRLRLRRLRRLLLLRRLLRLRRLRRLRLRLRRLRLLRLRLRLRRRLLRLRLRLRRLRRLRRRLRRLRRLRRLRRLRRRLRRLRLLRLLRRRLRLRLLRRRLLRRLLLLRLRRRLLRLRLRRLRRRLRLRRLRLRRLLRLRRLLRLLRRLRLLRLLRRLRRRLLRRLRLRLRRLRRLRRRLRRLRRRLLRRLRLRRRLRRRLRLRRRLRRLRRLRRLRRRLRRLRLRRRLRLRRLLRRLRRRLRLRRRLLRLRRRLRRRLRLRLRRRLLRRLLRLRRRLRRLRRRLLLRRRR\r\n",
      "\r\n",
      "FTX = (VVM, VVM)\r\n",
      "LNR = (DQG, CMF)\r\n",
      "NXS = (TKM, FPB)\r\n",
      "FQF = (HDC, NFB)\r\n",
      "SPH = (MQB, XFB)\r\n",
      "FDL = (CTR, NXS)\r\n",
      "DMF = (VHG, LJV)\r\n",
      "JBP = (CKR, VBF)\r\n"
     ]
    }
   ],
   "source": [
    "!head  \"input.txt\""
   ]
  },
  {
   "cell_type": "code",
   "execution_count": 11,
   "metadata": {},
   "outputs": [],
   "source": [
    "for node in mm.nodes:\n",
    "    L, R = mm.neighbors[node]\n",
    "    assert all([len(x)==3 for x in [node, L, R]]), f\"Found mismatch length: {node}, {L}, {R}\""
   ]
  },
  {
   "cell_type": "code",
   "execution_count": 16,
   "metadata": {},
   "outputs": [
    {
     "data": {
      "text/plain": [
       "('HGT', 'ZZZ')"
      ]
     },
     "execution_count": 16,
     "metadata": {},
     "output_type": "execute_result"
    }
   ],
   "source": [
    "mm.neighbors[\"FQN\"]"
   ]
  },
  {
   "cell_type": "code",
   "execution_count": 17,
   "metadata": {},
   "outputs": [
    {
     "data": {
      "text/plain": [
       "[('BBB', ('AAA', 'ZZZ')), ('FQN', ('HGT', 'ZZZ'))]"
      ]
     },
     "execution_count": 17,
     "metadata": {},
     "output_type": "execute_result"
    }
   ],
   "source": [
    "[item for item in mm.neighbors.items() if \"ZZZ\" in item[1]]"
   ]
  },
  {
   "cell_type": "code",
   "execution_count": null,
   "metadata": {},
   "outputs": [],
   "source": []
  }
 ],
 "metadata": {
  "kernelspec": {
   "display_name": "Python 3 (ipykernel)",
   "language": "python",
   "name": "python3"
  },
  "language_info": {
   "codemirror_mode": {
    "name": "ipython",
    "version": 3
   },
   "file_extension": ".py",
   "mimetype": "text/x-python",
   "name": "python",
   "nbconvert_exporter": "python",
   "pygments_lexer": "ipython3",
   "version": "3.7.4"
  }
 },
 "nbformat": 4,
 "nbformat_minor": 2
}
