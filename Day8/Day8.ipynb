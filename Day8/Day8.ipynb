{
 "cells": [
  {
   "cell_type": "code",
   "execution_count": 1,
   "metadata": {},
   "outputs": [],
   "source": [
    "import sys\n",
    "import datetime"
   ]
  },
  {
   "cell_type": "code",
   "execution_count": 2,
   "metadata": {},
   "outputs": [],
   "source": [
    "%load_ext autoreload"
   ]
  },
  {
   "cell_type": "code",
   "execution_count": 3,
   "metadata": {},
   "outputs": [],
   "source": [
    "%autoreload 1"
   ]
  },
  {
   "cell_type": "code",
   "execution_count": 4,
   "metadata": {},
   "outputs": [],
   "source": [
    "%aimport main"
   ]
  },
  {
   "cell_type": "code",
   "execution_count": 5,
   "metadata": {},
   "outputs": [
    {
     "name": "stdout",
     "output_type": "stream",
     "text": [
      "Modules to reload:\n",
      "main\n",
      "\n",
      "Modules to skip:\n",
      "\n"
     ]
    }
   ],
   "source": [
    "%aimport"
   ]
  },
  {
   "cell_type": "markdown",
   "metadata": {},
   "source": [
    "# Outline for Djikstra:\n",
    "1. Mark all nodes as unvisited\n",
    "2. Set the distance of the starting node as 0, and infinity for all other nodes\n",
    "3. Set the starting node as the current node\n",
    "4. Visit each of the neighbors of the current node\n",
    "    a. For each neighbor, calculate the distance to that node traveling through the current node\n",
    "    b. If this distance is less then the current distance recorded for that node, update the record accordingly\n",
    "5. . Mark the current node as \"visited\"\n",
    "6. Of the unvisited nodes, set the one with the smallest distance to the current node\n",
    "7. Repeat steps 4 through 6 until one of the following:\n",
    "    a. The algorithm terminates when the destination node is the current node\n",
    "    b. Alternatively, if the smallest distance of the unvisited nodes is, then no path exists to the destination node."
   ]
  },
  {
   "cell_type": "code",
   "execution_count": 6,
   "metadata": {},
   "outputs": [
    {
     "name": "stdout",
     "output_type": "stream",
     "text": [
      "Journey Completed! Process took: 6\n"
     ]
    }
   ],
   "source": [
    "mm = main.main()\n",
    "mm.read(\"ex.txt\")\n",
    "mm.pathlength()"
   ]
  },
  {
   "cell_type": "code",
   "execution_count": 7,
   "metadata": {},
   "outputs": [
    {
     "name": "stdout",
     "output_type": "stream",
     "text": [
      "Journey Completed! Process took: 20569\n"
     ]
    }
   ],
   "source": [
    "mm = main.main()\n",
    "mm.read(\"input.txt\")\n",
    "mm.pathlength()"
   ]
  },
  {
   "cell_type": "code",
   "execution_count": 48,
   "metadata": {},
   "outputs": [
    {
     "name": "stdout",
     "output_type": "stream",
     "text": [
      "790\n",
      "6\n",
      " On node  XVL   789  of 790     Node mappings completed!!!!\n"
     ]
    }
   ],
   "source": [
    "mm = main.main()\n",
    "mm.read(\"input.txt\")\n",
    "print(len(mm.nodes))\n",
    "paths2zzzs = [(key, values) for key, values in list(mm.neighbors.items()) if ((values[0][-1]==\"Z\") or (values[1][-1]==\"Z\"))]\n",
    "print(len(paths2zzzs))\n",
    "mm.pathlength2()"
   ]
  },
  {
   "cell_type": "code",
   "execution_count": 52,
   "metadata": {},
   "outputs": [
    {
     "name": "stdout",
     "output_type": "stream",
     "text": [
      "12\n"
     ]
    }
   ],
   "source": [
    "zpaths = [(key, zzzs) for key, zzzs in list(mm.p2node_zzzs.items()) if zzzs != []]\n",
    "print(len(zpaths))"
   ]
  },
  {
   "cell_type": "code",
   "execution_count": 53,
   "metadata": {},
   "outputs": [],
   "source": [
    "from collections import Counter"
   ]
  },
  {
   "cell_type": "code",
   "execution_count": 54,
   "metadata": {},
   "outputs": [
    {
     "data": {
      "text/plain": [
       "Counter({0: 778, 1: 12})"
      ]
     },
     "execution_count": 54,
     "metadata": {},
     "output_type": "execute_result"
    }
   ],
   "source": [
    "Counter(mm.p2node_zcount_maps.values())"
   ]
  },
  {
   "cell_type": "code",
   "execution_count": 55,
   "metadata": {},
   "outputs": [
    {
     "name": "stdout",
     "output_type": "stream",
     "text": [
      "6\n"
     ]
    }
   ],
   "source": [
    "#Make a better mapping\n",
    "#Starting nodes\n",
    "#len(directions)\n",
    "starting_nodes = [node for node in mm.nodes if node[-1]==\"A\"]\n",
    "print(len(starting_nodes))"
   ]
  },
  {
   "cell_type": "markdown",
   "metadata": {},
   "source": [
    "## V2 - Increasing Speed!"
   ]
  },
  {
   "cell_type": "code",
   "execution_count": 92,
   "metadata": {},
   "outputs": [
    {
     "name": "stdout",
     "output_type": "stream",
     "text": [
      "On iteration: 1,999,999,000[========= ]Process took: 4 days, 0:26:18.627134\n"
     ]
    }
   ],
   "source": [
    "cur_nodes = starting_nodes\n",
    "cycles = 0\n",
    "\n",
    "start = datetime.datetime.now()\n",
    "ncycles = 10**6 #search size; number of iterations until termination\n",
    "\n",
    "ncycles = 2 * 10**9\n",
    "for i in range(ncycles):\n",
    "    if cycles % 10**3 == 0:\n",
    "        of10 = int(cycles*10/ncycles)\n",
    "        progress = \"=\"*of10\n",
    "        spaces = \" \"*(10-of10)\n",
    "        padding = \" \"*8\n",
    "        sys.stdout.write(f\"\\rOn iteration: {cycles:^10,}[{progress:<10}]\")\n",
    "        sys.stdout.flush()\n",
    "    for n, node in enumerate(cur_nodes):\n",
    "        zzzs = set(mm.p2node_zzzs[node])\n",
    "        if n == 0:\n",
    "            zs_in_all = zzzs\n",
    "        else:\n",
    "            zs_in_all = zs_in_all.intersection(zzzs)\n",
    "    if len(zs_in_all) > 0:\n",
    "        print(f\"Success! All current nodes end in Z on the {min(zs_in_all)} iteration of cycle {cycles}\")\n",
    "        tot_steps = cycles*len(mm.directions) + min(zs_in_all)\n",
    "        print(f\"This is a total of: {tot_steps:,}\")\n",
    "        print(f\"For references here's the zs in all index(es): {zs_in_all}\")\n",
    "        break\n",
    "    else:\n",
    "        #Repeat!\n",
    "        cur_nodes = [mm.p2node_maps[node] for node in cur_nodes]\n",
    "        cycles += 1\n",
    "\n",
    "end = datetime.datetime.now()\n",
    "elapsed = end - start\n",
    "print(f\"Process took: {elapsed}\")"
   ]
  },
  {
   "cell_type": "code",
   "execution_count": 89,
   "metadata": {},
   "outputs": [
    {
     "ename": "NameError",
     "evalue": "name 'cur_node' is not defined",
     "output_type": "error",
     "traceback": [
      "\u001b[0;31m---------------------------------------------------------------------------\u001b[0m",
      "\u001b[0;31mNameError\u001b[0m                                 Traceback (most recent call last)",
      "\u001b[0;32m/var/folders/88/p0ht7fsn1tgbzvckzxgbf7cm0000gn/T/ipykernel_10887/457180016.py\u001b[0m in \u001b[0;36m<module>\u001b[0;34m\u001b[0m\n\u001b[0;32m----> 1\u001b[0;31m \u001b[0mcur_node\u001b[0m\u001b[0;34m\u001b[0m\u001b[0;34m\u001b[0m\u001b[0m\n\u001b[0m",
      "\u001b[0;31mNameError\u001b[0m: name 'cur_node' is not defined"
     ]
    }
   ],
   "source": [
    "cur_node"
   ]
  },
  {
   "cell_type": "code",
   "execution_count": null,
   "metadata": {},
   "outputs": [],
   "source": [
    "# cur_nodes = starting_nodes\n",
    "# #Initialize zs in all to zs from first node\n",
    "\n",
    "\n",
    "# for n, node in enumerate(cur_nodes):\n",
    "#     zzzs = set(mm.p2node_zzzs[cur_nodes[0]])\n",
    "#     if n == 0:\n",
    "#         zs_in_all = zzzs\n",
    "#     else:\n",
    "#         zs_in_all = zs_in_all.intersection(zzzs)\n",
    "# if len(zs_in_all) > 0:\n",
    "#     print(f\"Success! All current nodes end in Z on the {min(zs_in_all)} iteration of cycle {cycle}\")\n",
    "# else:\n",
    "#     #Repeat!"
   ]
  },
  {
   "cell_type": "markdown",
   "metadata": {},
   "source": [
    "## V3 - Detect Cycles, Allowing for Complete Modular Arithmetic"
   ]
  },
  {
   "cell_type": "code",
   "execution_count": 61,
   "metadata": {},
   "outputs": [
    {
     "name": "stdout",
     "output_type": "stream",
     "text": [
      "Directions cycle after 61 iterations ending with: QHQ\n",
      "This is a total of 18,727 since directions are 307 long.\n",
      "1\n",
      "61 \n",
      " First 5 direction starting nodes:  ['STA', 'QHQ', 'NXS', 'LLT', 'DVJ'] \n",
      "Last 5 direction starting nodes:  ['FDL', 'SHK', 'VCK', 'XGZ', 'QHQ']\n",
      "Starting at STA, the path will cycle every 18113 steps starting after 18727 steps\n",
      "\n",
      "\n",
      "Directions cycle after 69 iterations ending with: CRR\n",
      "This is a total of 21,183 since directions are 307 long.\n",
      "1\n",
      "69 \n",
      " First 5 direction starting nodes:  ['AAA', 'CRR', 'CVB', 'KSH', 'SMD'] \n",
      "Last 5 direction starting nodes:  ['CLH', 'JHM', 'TSN', 'ZZZ', 'CRR']\n",
      "Starting at AAA, the path will cycle every 20569 steps starting after 21183 steps\n",
      "\n",
      "\n",
      "Directions cycle after 73 iterations ending with: GVP\n",
      "This is a total of 22,411 since directions are 307 long.\n",
      "1\n",
      "73 \n",
      " First 5 direction starting nodes:  ['GPA', 'GVP', 'KBT', 'SJB', 'STP'] \n",
      "Last 5 direction starting nodes:  ['VFT', 'QKC', 'DHQ', 'LLZ', 'GVP']\n",
      "Starting at GPA, the path will cycle every 21797 steps starting after 22411 steps\n",
      "\n",
      "\n",
      "Directions cycle after 45 iterations ending with: XFX\n",
      "This is a total of 13,815 since directions are 307 long.\n",
      "1\n",
      "45 \n",
      " First 5 direction starting nodes:  ['LKA', 'XFX', 'GRM', 'RQQ', 'JDT'] \n",
      "Last 5 direction starting nodes:  ['GML', 'VBR', 'GTM', 'HTZ', 'XFX']\n",
      "Starting at LKA, the path will cycle every 13201 steps starting after 13815 steps\n",
      "\n",
      "\n",
      "Directions cycle after 81 iterations ending with: TPN\n",
      "This is a total of 24,867 since directions are 307 long.\n",
      "1\n",
      "81 \n",
      " First 5 direction starting nodes:  ['DFA', 'TPN', 'VXS', 'XGL', 'QCX'] \n",
      "Last 5 direction starting nodes:  ['FQM', 'HCX', 'NDK', 'TMZ', 'TPN']\n",
      "Starting at DFA, the path will cycle every 24253 steps starting after 24867 steps\n",
      "\n",
      "\n",
      "Directions cycle after 75 iterations ending with: FSN\n",
      "This is a total of 23,025 since directions are 307 long.\n",
      "1\n",
      "75 \n",
      " First 5 direction starting nodes:  ['KKA', 'FSN', 'XNV', 'CMB', 'FFV'] \n",
      "Last 5 direction starting nodes:  ['BFK', 'FVV', 'RBC', 'XDZ', 'FSN']\n",
      "Starting at KKA, the path will cycle every 22411 steps starting after 23025 steps\n",
      "\n",
      "\n"
     ]
    }
   ],
   "source": [
    "# ex = starting_nodes[0]\n",
    "# starting_point = ex\n",
    "# zzzs = mm.p2node_zzzs[ex]\n",
    "# print(ex)\n",
    "# print(len(zzzs), zzzs[:5])\n",
    "# print(len(mm.directions))\n",
    "# print(f\"End node: {mm.p2node_maps[ex]}\")\n",
    "\n",
    "\n",
    "def modularize_node_path(starting_node):\n",
    "    cur_node = starting_node\n",
    "    iterations = 1\n",
    "\n",
    "    node_order = []\n",
    "    end_nodes = set()\n",
    "    while (cur_node not in end_nodes):\n",
    "        next_node = mm.p2node_maps[cur_node]\n",
    "        iterations += 1\n",
    "        end_nodes.add(cur_node)\n",
    "        node_order.append(cur_node)\n",
    "        cur_node = next_node\n",
    "        if iterations > 10**8:\n",
    "            print(\"Terminated early.\")\n",
    "            break\n",
    "        elif iterations % 100 == 0:\n",
    "            sys.stdout.write(f\"\\rOn iteration: {iterations:,}     \")\n",
    "            sys.stdout.flush()\n",
    "    print(f\"Directions cycle after {iterations:,} iterations ending with: {next_node}\")\n",
    "    cyclical_after_n_steps = iterations*len(mm.directions)\n",
    "    print(f\"This is a total of {cyclical_after_n_steps:,} since directions are {len(mm.directions):,} long.\")\n",
    "    \n",
    "    cycle_index_start = node_order.index(cur_node)\n",
    "    node_order.append(cur_node)#append to verify the loop; will have to remove later.\n",
    "    print(cycle_index_start)\n",
    "\n",
    "    print(len(node_order), \"\\n\",\n",
    "          \"First 5 direction starting nodes: \", node_order[:5], \"\\n\"\n",
    "          \"Last 5 direction starting nodes: \", node_order[-5:])\n",
    "    \n",
    "    dir_iters_in_cycle = len(node_order[:-1]) - cycle_index_start\n",
    "    print(f\"Starting at {starting_node}, the path will cycle every {dir_iters_in_cycle*len(mm.directions)} steps starting after {cyclical_after_n_steps} steps\")\n",
    "    #additional feature engineer\n",
    "    loop_length = len(node_order[cycle_index_start:])*len(mm.directions)\n",
    "    loop_offset = len(node_order[:cycle_index_start])*len(mm.directions)\n",
    "    zebras = []\n",
    "    for iters, node in enumerate(node_order[cycle_index_start:-1]):\n",
    "        zs = mm.p2node_zzzs[node]\n",
    "        if zs != []:\n",
    "            zs = [zi + iters*len(mm.directions) for zi in zs]\n",
    "            zebras += zs #append to list\n",
    "    params = {\"node_order\" : node_order,\n",
    "              \"cycle_index_start\" : cycle_index_start,\n",
    "              \"loop_length\":loop_length,\n",
    "             \"loop_offset\":loop_offset,\n",
    "             \"zebras\":zebras}\n",
    "    return params\n",
    "\n",
    "\n",
    "node_mod_params = {}\n",
    "for node in starting_nodes:\n",
    "    params = modularize_node_path(node)\n",
    "    node_mod_params[node] = params\n",
    "    print(\"\\n\")"
   ]
  },
  {
   "cell_type": "code",
   "execution_count": 65,
   "metadata": {},
   "outputs": [
    {
     "name": "stdout",
     "output_type": "stream",
     "text": [
      "Starting node: STA\n",
      "61 \n",
      " First 5 direction starting nodes:  ['STA', 'QHQ', 'NXS', 'LLT', 'DVJ'] \n",
      "Last 5 direction starting nodes:  ['FDL', 'SHK', 'VCK', 'XGZ', 'QHQ']\n",
      "Second loop starts after: 18,727    \n",
      "Or loop offset: 307       \n",
      "Loop length: 18,420    \n",
      "Zebras in cycle: [17806]\n",
      "Starting node: AAA\n",
      "69 \n",
      " First 5 direction starting nodes:  ['AAA', 'CRR', 'CVB', 'KSH', 'SMD'] \n",
      "Last 5 direction starting nodes:  ['CLH', 'JHM', 'TSN', 'ZZZ', 'CRR']\n",
      "Second loop starts after: 21,183    \n",
      "Or loop offset: 307       \n",
      "Loop length: 20,876    \n",
      "Zebras in cycle: [20262]\n",
      "Starting node: GPA\n",
      "73 \n",
      " First 5 direction starting nodes:  ['GPA', 'GVP', 'KBT', 'SJB', 'STP'] \n",
      "Last 5 direction starting nodes:  ['VFT', 'QKC', 'DHQ', 'LLZ', 'GVP']\n",
      "Second loop starts after: 22,411    \n",
      "Or loop offset: 307       \n",
      "Loop length: 22,104    \n",
      "Zebras in cycle: [21490]\n",
      "Starting node: LKA\n",
      "45 \n",
      " First 5 direction starting nodes:  ['LKA', 'XFX', 'GRM', 'RQQ', 'JDT'] \n",
      "Last 5 direction starting nodes:  ['GML', 'VBR', 'GTM', 'HTZ', 'XFX']\n",
      "Second loop starts after: 13,815    \n",
      "Or loop offset: 307       \n",
      "Loop length: 13,508    \n",
      "Zebras in cycle: [12894]\n",
      "Starting node: DFA\n",
      "81 \n",
      " First 5 direction starting nodes:  ['DFA', 'TPN', 'VXS', 'XGL', 'QCX'] \n",
      "Last 5 direction starting nodes:  ['FQM', 'HCX', 'NDK', 'TMZ', 'TPN']\n",
      "Second loop starts after: 24,867    \n",
      "Or loop offset: 307       \n",
      "Loop length: 24,560    \n",
      "Zebras in cycle: [23946]\n",
      "Starting node: KKA\n",
      "75 \n",
      " First 5 direction starting nodes:  ['KKA', 'FSN', 'XNV', 'CMB', 'FFV'] \n",
      "Last 5 direction starting nodes:  ['BFK', 'FVV', 'RBC', 'XDZ', 'FSN']\n",
      "Second loop starts after: 23,025    \n",
      "Or loop offset: 307       \n",
      "Loop length: 22,718    \n",
      "Zebras in cycle: [22104]\n"
     ]
    }
   ],
   "source": [
    "for node in starting_nodes:\n",
    "    print(f\"Starting node: {node}\")\n",
    "    params = node_mod_params[node]\n",
    "    node_order = params['node_order']\n",
    "    loop_offset = params['loop_offset']\n",
    "    loop_length = params['loop_length']\n",
    "\n",
    "\n",
    "    #Print outputs\n",
    "    print(len(node_order), \"\\n\",\n",
    "              \"First 5 direction starting nodes: \", node_order[:5], \"\\n\"\n",
    "              \"Last 5 direction starting nodes: \", node_order[-5:])\n",
    "\n",
    "\n",
    "    print(f\"Second loop starts after: {len(node_order)*len(mm.directions):<10,}\")\n",
    "    print(f\"Or loop offset: {loop_offset:<10,}\")\n",
    "    print(f\"Loop length: {loop_length:<10,}\")\n",
    "    print(f\"Zebras in cycle: {params['zebras']}\")\n",
    "    # for temp_node in node_order[loop_start_idx:-1]:\n"
   ]
  },
  {
   "cell_type": "code",
   "execution_count": 66,
   "metadata": {},
   "outputs": [
    {
     "data": {
      "text/plain": [
       "3"
      ]
     },
     "execution_count": 66,
     "metadata": {},
     "output_type": "execute_result"
    }
   ],
   "source": [
    "[1,2,3,4,5].index(4)"
   ]
  },
  {
   "cell_type": "code",
   "execution_count": 77,
   "metadata": {},
   "outputs": [
    {
     "name": "stdout",
     "output_type": "stream",
     "text": [
      "Starting node: STA\n",
      "Loop length: 18,420    \n",
      "Zebras in cycle: 1\n",
      "where: 17806 mod 18420\n",
      "Diff: 614\n",
      "\n",
      "\n",
      "Starting node: AAA\n",
      "Loop length: 20,876    \n",
      "Zebras in cycle: 1\n",
      "where: 20262 mod 20876\n",
      "Diff: 614\n",
      "\n",
      "\n",
      "Starting node: GPA\n",
      "Loop length: 22,104    \n",
      "Zebras in cycle: 1\n",
      "where: 21490 mod 22104\n",
      "Diff: 614\n",
      "\n",
      "\n",
      "Starting node: LKA\n",
      "Loop length: 13,508    \n",
      "Zebras in cycle: 1\n",
      "where: 12894 mod 13508\n",
      "Diff: 614\n",
      "\n",
      "\n",
      "Starting node: DFA\n",
      "Loop length: 24,560    \n",
      "Zebras in cycle: 1\n",
      "where: 23946 mod 24560\n",
      "Diff: 614\n",
      "\n",
      "\n",
      "Starting node: KKA\n",
      "Loop length: 22,718    \n",
      "Zebras in cycle: 1\n",
      "where: 22104 mod 22718\n",
      "Diff: 614\n",
      "\n",
      "\n"
     ]
    }
   ],
   "source": [
    "for node in starting_nodes:\n",
    "    params = node_mod_params[node]\n",
    "    print(f\"Starting node: {node}\")\n",
    "    print(f\"Loop length: {params['loop_length']:<10,}\")\n",
    "    print(f\"Zebras in cycle: {len(params['zebras'])}\")\n",
    "    print(f\"where: {params['zebras'][0] % params['loop_length']} mod {params['loop_length']}\")\n",
    "    print(f\"Diff: {params['loop_length'] - params['zebras'][0]}\")\n",
    "    print(\"\\n\")"
   ]
  },
  {
   "cell_type": "markdown",
   "metadata": {},
   "source": [
    "Thus, multiply all of the cycle lenghts together, subtract the joint offset (307) and the share mod diff (614)"
   ]
  },
  {
   "cell_type": "code",
   "execution_count": 85,
   "metadata": {},
   "outputs": [],
   "source": [
    "import numpy as np"
   ]
  },
  {
   "cell_type": "code",
   "execution_count": 90,
   "metadata": {},
   "outputs": [
    {
     "name": "stdout",
     "output_type": "stream",
     "text": [
      "Product: 1,529,375,760\n",
      "Final answer: 1,529,375,453\n"
     ]
    }
   ],
   "source": [
    "prod = 1\n",
    "for node in starting_nodes:\n",
    "    params = node_mod_params[node]\n",
    "    prod = np.lcm(params['loop_length'], prod)\n",
    "print(f\"Product: {prod:,}\")\n",
    "print(f\"Final answer: {prod+307-614:,}\")"
   ]
  },
  {
   "cell_type": "markdown",
   "metadata": {},
   "source": [
    "### Ex:\n",
    "\n",
    "3 mod 4 \n",
    "and 2 mod 3.....\n",
    "\n",
    "both are 1 away from their modulator, so multiply together, they should be 1 away from joint product\n",
    "\n",
    "answer: 11!\n",
    "\n",
    "5 mod 6 would also work in this scenario, demonstrting need to find LCM\n"
   ]
  }
 ],
 "metadata": {
  "kernelspec": {
   "display_name": "Python 3 (ipykernel)",
   "language": "python",
   "name": "python3"
  },
  "language_info": {
   "codemirror_mode": {
    "name": "ipython",
    "version": 3
   },
   "file_extension": ".py",
   "mimetype": "text/x-python",
   "name": "python",
   "nbconvert_exporter": "python",
   "pygments_lexer": "ipython3",
   "version": "3.7.4"
  }
 },
 "nbformat": 4,
 "nbformat_minor": 2
}
