{
 "cells": [
  {
   "cell_type": "code",
   "execution_count": 3,
   "metadata": {},
   "outputs": [],
   "source": [
    "from collections import Counter\n",
    "import re"
   ]
  },
  {
   "cell_type": "code",
   "execution_count": 92,
   "metadata": {},
   "outputs": [
    {
     "data": {
      "text/plain": [
       "Counter({140: 140, 0: 1})"
      ]
     },
     "execution_count": 92,
     "metadata": {},
     "output_type": "execute_result"
    }
   ],
   "source": [
    "with open(\"day3_puzzle1.txt\") as f:\n",
    "    puzzle = f.read()\n",
    "Counter([len(line) for line in puzzle1.split(\"\\n\")])"
   ]
  },
  {
   "cell_type": "code",
   "execution_count": 93,
   "metadata": {},
   "outputs": [
    {
     "data": {
      "text/plain": [
       "Counter({140: 140, 0: 1})"
      ]
     },
     "execution_count": 93,
     "metadata": {},
     "output_type": "execute_result"
    }
   ],
   "source": [
    "#Step 1: Ensure equal line lengths\n",
    "line_lengths = Counter([len(line) for line in puzzle.split(\"\\n\")])\n",
    "line_lengths"
   ]
  },
  {
   "cell_type": "code",
   "execution_count": 94,
   "metadata": {},
   "outputs": [
    {
     "name": "stdout",
     "output_type": "stream",
     "text": [
      "....=..860...157....347............*..*......954.930.......472...618....899......%..726.330..44.......687........$..........................\n"
     ]
    }
   ],
   "source": [
    "# Step 2: Regex symbols, numbers and dots...\n",
    "# http://stackoverflow.com/questions/250271/ddg#250303\n",
    "# 2a: start with an example\n",
    "line = puzzle.split(\"\\n\")[10]\n",
    "print(line)"
   ]
  },
  {
   "cell_type": "code",
   "execution_count": 95,
   "metadata": {},
   "outputs": [
    {
     "name": "stdout",
     "output_type": "stream",
     "text": [
      "Start idx: 7 end idx: 10 match: 860 type start: <class 'int'> type group: <class 'str'>\n",
      "Start idx: 13 end idx: 16 match: 157 type start: <class 'int'> type group: <class 'str'>\n",
      "Start idx: 20 end idx: 23 match: 347 type start: <class 'int'> type group: <class 'str'>\n",
      "Start idx: 45 end idx: 48 match: 954 type start: <class 'int'> type group: <class 'str'>\n",
      "Start idx: 49 end idx: 52 match: 930 type start: <class 'int'> type group: <class 'str'>\n",
      "Start idx: 59 end idx: 62 match: 472 type start: <class 'int'> type group: <class 'str'>\n",
      "Start idx: 65 end idx: 68 match: 618 type start: <class 'int'> type group: <class 'str'>\n",
      "Start idx: 72 end idx: 75 match: 899 type start: <class 'int'> type group: <class 'str'>\n",
      "Start idx: 84 end idx: 87 match: 726 type start: <class 'int'> type group: <class 'str'>\n",
      "Start idx: 88 end idx: 91 match: 330 type start: <class 'int'> type group: <class 'str'>\n",
      "Start idx: 93 end idx: 95 match: 44 type start: <class 'int'> type group: <class 'str'>\n",
      "Start idx: 102 end idx: 105 match: 687 type start: <class 'int'> type group: <class 'str'>\n"
     ]
    }
   ],
   "source": [
    "#ya digits\n",
    "p = re.compile(\"\\d+\")\n",
    "for m in p.finditer(line):\n",
    "    print(f\"Start idx: {m.start()} end idx: {m.end()} match: {m.group()} type start: {type(m.start())} type group: {type(m.group())}\")\n"
   ]
  },
  {
   "cell_type": "code",
   "execution_count": 96,
   "metadata": {},
   "outputs": [
    {
     "name": "stdout",
     "output_type": "stream",
     "text": [
      "Index: 4 match: =\n",
      "Index: 35 match: *\n",
      "Index: 38 match: *\n",
      "Index: 81 match: %\n",
      "Index: 113 match: $\n"
     ]
    }
   ],
   "source": [
    "#ya symbols\n",
    "symbols = re.compile(\"[^0-9^.]+\")\n",
    "for m in symbols.finditer(line):\n",
    "    print(f\"Index: {m.start()} match: {m.group()}\")"
   ]
  },
  {
   "cell_type": "code",
   "execution_count": 97,
   "metadata": {},
   "outputs": [
    {
     "data": {
      "text/plain": [
       "'='"
      ]
     },
     "execution_count": 97,
     "metadata": {},
     "output_type": "execute_result"
    }
   ],
   "source": [
    "line[4] #Check"
   ]
  },
  {
   "cell_type": "code",
   "execution_count": 98,
   "metadata": {},
   "outputs": [
    {
     "data": {
      "text/plain": [
       "'*'"
      ]
     },
     "execution_count": 98,
     "metadata": {},
     "output_type": "execute_result"
    }
   ],
   "source": [
    "line[35] #Check"
   ]
  },
  {
   "cell_type": "code",
   "execution_count": 99,
   "metadata": {},
   "outputs": [
    {
     "data": {
      "text/plain": [
       "[4, 35, 38, 81, 113]"
      ]
     },
     "execution_count": 99,
     "metadata": {},
     "output_type": "execute_result"
    }
   ],
   "source": [
    "#Streamlined\n",
    "symbol_positions = [m.start() for m in symbols.finditer(line)]\n",
    "symbol_positions"
   ]
  },
  {
   "cell_type": "code",
   "execution_count": 100,
   "metadata": {},
   "outputs": [
    {
     "data": {
      "text/plain": [
       "[10, 11, 12, 13, 14]"
      ]
     },
     "execution_count": 100,
     "metadata": {},
     "output_type": "execute_result"
    }
   ],
   "source": [
    "list(range(10,15))"
   ]
  },
  {
   "cell_type": "code",
   "execution_count": 101,
   "metadata": {},
   "outputs": [
    {
     "data": {
      "text/plain": [
       "[12]"
      ]
     },
     "execution_count": 101,
     "metadata": {},
     "output_type": "execute_result"
    }
   ],
   "source": [
    "[x for x in list(range(10,15)) if x in [12,15,20]]"
   ]
  },
  {
   "cell_type": "markdown",
   "metadata": {},
   "source": [
    "## Full Code"
   ]
  },
  {
   "cell_type": "code",
   "execution_count": 102,
   "metadata": {},
   "outputs": [
    {
     "name": "stdout",
     "output_type": "stream",
     "text": [
      "Total: 559667\n"
     ]
    }
   ],
   "source": [
    "#Step 3: Full Outline\n",
    "# a. For each row, get your numbers. \n",
    "# b. check adjacency (including corners) -> This means storing previous AND next line within start-1:end+1\n",
    "# If the number has an adjacent symbol, convert to int, add to summation\n",
    "\n",
    "tot = 0\n",
    "symbols = re.compile(\"[^0-9^.]+\")\n",
    "p = re.compile(\"\\d+\")\n",
    "\n",
    "#Initialize a 'prior line' for simplicity\n",
    "prior_line = \".\"*140\n",
    "lines = puzzle.split(\"\\n\")\n",
    "#Enumerate iterates through an iterable return an item as well as the index of said item\n",
    "for i, line in enumerate(lines):\n",
    "    if i != len(lines)-1:\n",
    "        next_line = lines[i+1]\n",
    "    else:\n",
    "        next_line = \".\"*140 #if you're on the last line, there ain't a next line....use a generic one!\n",
    "    #prior_symbol_positions \n",
    "    psp = [m.start() for m in symbols.finditer(prior_line)]\n",
    "    #cur_symbols_positions\n",
    "    csp = [m.start() for m in symbols.finditer(line)]\n",
    "    #next_symbols_positions\n",
    "    nsp = [m.start() for m in symbols.finditer(next_line)]\n",
    "    \n",
    "    for m in p.finditer(line):\n",
    "        start = m.start()\n",
    "        end = m.end()\n",
    "        n = int(m.group())\n",
    "        #Is there an adjacent symbol?\n",
    "        adj_indices = list(range(start-1, end+1)) #range is inclusive on lower, exclusive on upper, so add 2 for right\n",
    "        if [x for x in adj_indices if (x in psp) or (x in csp) or (x in nsp)] != []:\n",
    "            tot += n #Add n to the total!\n",
    "    #Set the current line to prior_line\n",
    "    prior_line = line\n",
    "print(f\"Total: {tot}\")"
   ]
  },
  {
   "cell_type": "markdown",
   "metadata": {},
   "source": [
    "## Check a Test Line for Sanity and QA"
   ]
  },
  {
   "cell_type": "code",
   "execution_count": 80,
   "metadata": {},
   "outputs": [
    {
     "name": "stdout",
     "output_type": "stream",
     "text": [
      ".588..........*........$.$.......515...493.............73.....%...........*.....428.*....................*968......\n",
      "....=..860...157....347............*..*......954.930.......472...618....899......%..726.330..44.......687........$.\n",
      "..........@..................+....465..47.......*......*............*........554............@...................485\n"
     ]
    }
   ],
   "source": [
    "test_n = 10\n",
    "prior_line = lines[test_n-1]\n",
    "line = lines[test_n]\n",
    "next_line = lines[test_n+1]\n",
    "print(prior_line[:115])\n",
    "print(line[:115])\n",
    "print(next_line[:115])"
   ]
  },
  {
   "cell_type": "code",
   "execution_count": 82,
   "metadata": {},
   "outputs": [
    {
     "name": "stdout",
     "output_type": "stream",
     "text": [
      "860 has adjacent symbols: [10]\n",
      "157 has adjacent symbols: [14]\n",
      "347 has adjacent symbols: [23]\n",
      "954 has adjacent symbols: [48]\n",
      "930 has adjacent symbols: [48]\n",
      "472 has adjacent symbols: [62]\n",
      "618 has adjacent symbols: [68]\n",
      "899 has adjacent symbols: [74]\n",
      "726 has adjacent symbols: [84]\n",
      "330 DOESNT HAVE ADJACENCY!!! []\n",
      "44 has adjacent symbols: [92]\n",
      "687 has adjacent symbols: [105]\n"
     ]
    }
   ],
   "source": [
    "psp = [m.start() for m in symbols.finditer(prior_line)]\n",
    "#cur_symbols_positions\n",
    "csp = [m.start() for m in symbols.finditer(line)]\n",
    "#next_symbols_positions\n",
    "nsp = [m.start() for m in symbols.finditer(next_line)]\n",
    "\n",
    "for m in p.finditer(line):\n",
    "    start = m.start()\n",
    "    end = m.end()\n",
    "    n = int(m.group())\n",
    "    #Is there an adjacent symbol?\n",
    "    adj_indices = list(range(start-1, end+1)) #range is inclusive on lower, exclusive on upper, so add 2 for right\n",
    "    adj_symbols = [x for x in adj_indices if (x in psp) or (x in csp) or (x in nsp)] \n",
    "    if adj_symbols!= []:\n",
    "        print(f\"{n} has adjacent symbols: {adj_symbols}\")\n",
    "    else:\n",
    "        print(f\"{n} DOESNT HAVE ADJACENCY!!! {adj_symbols}\") "
   ]
  },
  {
   "cell_type": "markdown",
   "metadata": {},
   "source": [
    "## Part 2\n",
    "\n",
    "The missing part wasn't the only issue - one of the gears in the engine is wrong. A gear is any * symbol that is adjacent to exactly two part numbers. Its gear ratio is the result of multiplying those two numbers together.\n",
    "\n",
    "This time, you need to find the gear ratio of every gear and add them all up so that the engineer can figure out which gear needs to be replaced.\n",
    "\n",
    "Consider the same engine schematic again:\n",
    "\n",
    "\n",
    "A: 467835"
   ]
  },
  {
   "cell_type": "code",
   "execution_count": 123,
   "metadata": {},
   "outputs": [],
   "source": [
    "ex = \"\"\"467..114..\n",
    "...*......\n",
    "..35..633.\n",
    "......#...\n",
    "617*......\n",
    ".....+.58.\n",
    "..592.....\n",
    "......755.\n",
    "...$.*....\n",
    ".664.598..\n",
    "\"\"\""
   ]
  },
  {
   "cell_type": "code",
   "execution_count": 128,
   "metadata": {},
   "outputs": [
    {
     "data": {
      "text/plain": [
       "['467..114..',\n",
       " '...*......',\n",
       " '..35..633.',\n",
       " '......#...',\n",
       " '617*......',\n",
       " '.....+.58.',\n",
       " '..592.....',\n",
       " '......755.',\n",
       " '...$.*....',\n",
       " '.664.598..',\n",
       " '']"
      ]
     },
     "execution_count": 128,
     "metadata": {},
     "output_type": "execute_result"
    }
   ],
   "source": [
    "ex.split(\"\\n\")"
   ]
  },
  {
   "cell_type": "code",
   "execution_count": 134,
   "metadata": {},
   "outputs": [],
   "source": [
    "def gear_ratio(puzzle):\n",
    "    tot = 0\n",
    "    gears = re.compile(\"[*]\")\n",
    "    digits = re.compile(\"\\d+\")\n",
    "\n",
    "    #Initialize a 'prior line' for simplicity\n",
    "    prior_line = \".\"*140\n",
    "    lines = puzzle.split(\"\\n\")\n",
    "    #Enumerate iterates through an iterable return an item as well as the index of said item\n",
    "    for i, line in enumerate(lines):\n",
    "        if i != len(lines)-1:\n",
    "            next_line = lines[i+1]\n",
    "        else:\n",
    "            next_line = \".\"*140 #if you're on the last line, there ain't a next line....use a generic one!\n",
    "        #prior_digits/positions \n",
    "        pdp = [(m.start(), m.end(), int(m.group())) for m in digits.finditer(prior_line)]\n",
    "        #cur_digits/positions\n",
    "        cdp = [(m.start(), m.end(), int(m.group())) for m in digits.finditer(line)]\n",
    "        #next_digits/positions\n",
    "        ndp = [(m.start(), m.end(), int(m.group())) for m in digits.finditer(next_line)]\n",
    "        for m in gears.finditer(line):\n",
    "            start = m.start()\n",
    "            end = m.end()\n",
    "            #are there exactly 2 adjacent digits to form a gear ratio?\n",
    "            adj_indices = list(range(start-1, end+1)) #range is inclusive on lower, exclusive on upper, so add 2 for right\n",
    "            adj_digits = []\n",
    "            for start, end, digit in pdp+cdp+ndp:\n",
    "                for index in range(start,end):\n",
    "                    if index in adj_indices:\n",
    "                        adj_digits.append(digit)\n",
    "                        break #don't add same digit twice\n",
    "            if len(adj_digits)==2:\n",
    "#                 print(f\"Found gear on line: {i} gears: {adj_digits[0]} {adj_digits[1]}\")\n",
    "                gr = adj_digits[0] * adj_digits[1] #gear ratio\n",
    "                tot += gr #Add gear ratio to the total!\n",
    "        #Set the current line to prior_line\n",
    "        prior_line = line\n",
    "    print(f\"Total: {tot}\")"
   ]
  },
  {
   "cell_type": "code",
   "execution_count": 132,
   "metadata": {},
   "outputs": [
    {
     "name": "stdout",
     "output_type": "stream",
     "text": [
      "Found gear on line: 1 gears: 467 35\n",
      "Found gear on line: 8 gears: 755 598\n",
      "Total: 467835\n"
     ]
    }
   ],
   "source": [
    "gear_ratio(ex)"
   ]
  },
  {
   "cell_type": "code",
   "execution_count": 135,
   "metadata": {},
   "outputs": [
    {
     "name": "stdout",
     "output_type": "stream",
     "text": [
      "Total: 86841457\n"
     ]
    }
   ],
   "source": [
    "gear_ratio(puzzle)"
   ]
  },
  {
   "cell_type": "code",
   "execution_count": null,
   "metadata": {},
   "outputs": [],
   "source": []
  }
 ],
 "metadata": {
  "kernelspec": {
   "display_name": "Python 3 (ipykernel)",
   "language": "python",
   "name": "python3"
  },
  "language_info": {
   "codemirror_mode": {
    "name": "ipython",
    "version": 3
   },
   "file_extension": ".py",
   "mimetype": "text/x-python",
   "name": "python",
   "nbconvert_exporter": "python",
   "pygments_lexer": "ipython3",
   "version": "3.7.4"
  }
 },
 "nbformat": 4,
 "nbformat_minor": 2
}
