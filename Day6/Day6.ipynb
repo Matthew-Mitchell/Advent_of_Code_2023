{
 "cells": [
  {
   "cell_type": "code",
   "execution_count": 13,
   "metadata": {},
   "outputs": [],
   "source": [
    "def read_file(file):\n",
    "    with open(file, 'r') as f:\n",
    "        for n, line in enumerate(f.readlines()):\n",
    "            if n == 0:\n",
    "                times = [int(x) for x in line.strip(\"Time: \").split()]\n",
    "            elif n ==1:\n",
    "                records = [int(x) for x in line.strip(\"Distance: \").split()]\n",
    "            else: \n",
    "                assert False, \"Error. More than 2 lines in input file.\"\n",
    "        return (times, records)"
   ]
  },
  {
   "cell_type": "code",
   "execution_count": 14,
   "metadata": {},
   "outputs": [
    {
     "name": "stdout",
     "output_type": "stream",
     "text": [
      "Times: [7, 15, 30]\n",
      "Records: [9, 40, 200]\n"
     ]
    }
   ],
   "source": [
    "times, records = read_file(\"ex.txt\")\n",
    "print(f\"Times: {times}\")\n",
    "print(f\"Records: {records}\")"
   ]
  },
  {
   "cell_type": "code",
   "execution_count": 15,
   "metadata": {},
   "outputs": [
    {
     "name": "stdout",
     "output_type": "stream",
     "text": [
      "7 9\n",
      "15 40\n",
      "30 200\n"
     ]
    }
   ],
   "source": [
    "for t, r in zip(times, records):\n",
    "    print(t,r)"
   ]
  },
  {
   "cell_type": "code",
   "execution_count": 17,
   "metadata": {},
   "outputs": [
    {
     "name": "stdout",
     "output_type": "stream",
     "text": [
      "If you hold the button for 0 milliseconds you can travel 0 millimeters! This is NOT a new record.\n",
      "If you hold the button for 1 milliseconds you can travel 6 millimeters! This is NOT a new record.\n",
      "If you hold the button for 2 milliseconds you can travel 10 millimeters! THIS IS A NEW RECORD!!!\n",
      "If you hold the button for 3 milliseconds you can travel 12 millimeters! THIS IS A NEW RECORD!!!\n",
      "If you hold the button for 4 milliseconds you can travel 12 millimeters! THIS IS A NEW RECORD!!!\n",
      "If you hold the button for 5 milliseconds you can travel 10 millimeters! THIS IS A NEW RECORD!!!\n",
      "If you hold the button for 6 milliseconds you can travel 6 millimeters! This is NOT a new record.\n"
     ]
    }
   ],
   "source": [
    "t = 7\n",
    "r = 9\n",
    "for btn_time in range(t):\n",
    "    d = btn_time * (t-btn_time)\n",
    "    if d <= r:\n",
    "        result = \"This is NOT a new record.\"\n",
    "    else:\n",
    "        result = \"THIS IS A NEW RECORD!!!\"\n",
    "    print(f\"If you hold the button for {btn_time} milliseconds you can travel {d} millimeters! {result}\")"
   ]
  },
  {
   "cell_type": "code",
   "execution_count": 18,
   "metadata": {},
   "outputs": [
    {
     "data": {
      "text/plain": [
       "4"
      ]
     },
     "execution_count": 18,
     "metadata": {},
     "output_type": "execute_result"
    }
   ],
   "source": [
    "sum([1 for btn_time in range(1,t) if btn_time*(t-btn_time) > r])"
   ]
  },
  {
   "cell_type": "code",
   "execution_count": 20,
   "metadata": {},
   "outputs": [],
   "source": [
    "def answer_p1(file):\n",
    "    times, records = read_file(\"ex.txt\")\n",
    "    product = 1\n",
    "    for t, r in zip(times, records):\n",
    "        product *= sum([1 for btn_time in range(1,t) if btn_time*(t-btn_time) > r])\n",
    "    return product"
   ]
  },
  {
   "cell_type": "code",
   "execution_count": null,
   "metadata": {},
   "outputs": [],
   "source": []
  },
  {
   "cell_type": "code",
   "execution_count": 19,
   "metadata": {},
   "outputs": [
    {
     "name": "stdout",
     "output_type": "stream",
     "text": [
      "288\n"
     ]
    }
   ],
   "source": [
    "product = 1\n",
    "for t, r in zip(times, records):\n",
    "    product *= sum([1 for btn_time in range(1,t) if btn_time*(t-btn_time) > r])\n",
    "print(product)"
   ]
  },
  {
   "cell_type": "code",
   "execution_count": null,
   "metadata": {},
   "outputs": [],
   "source": []
  }
 ],
 "metadata": {
  "kernelspec": {
   "display_name": "Python 3 (ipykernel)",
   "language": "python",
   "name": "python3"
  },
  "language_info": {
   "codemirror_mode": {
    "name": "ipython",
    "version": 3
   },
   "file_extension": ".py",
   "mimetype": "text/x-python",
   "name": "python",
   "nbconvert_exporter": "python",
   "pygments_lexer": "ipython3",
   "version": "3.7.4"
  }
 },
 "nbformat": 4,
 "nbformat_minor": 2
}
