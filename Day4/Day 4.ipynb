{
 "cells": [
  {
   "cell_type": "markdown",
   "metadata": {},
   "source": [
    "The almanac (your puzzle input) lists all of the seeds that need to be planted. It also lists what type of soil to use with each kind of seed, what type of fertilizer to use with each kind of soil, what type of water to use with each kind of fertilizer, and so on. Every type of seed, soil, fertilizer and so on is identified with a number, but numbers are reused by each category - that is, soil 123 and fertilizer 123 aren't necessarily related to each other.\n",
    "\n",
    "```\n",
    "seeds: 79 14 55 13\n",
    "\n",
    "seed-to-soil map:\n",
    "50 98 2\n",
    "52 50 48\n",
    "\n",
    "soil-to-fertilizer map:\n",
    "0 15 37\n",
    "37 52 2\n",
    "39 0 15\n",
    "\n",
    "fertilizer-to-water map:\n",
    "49 53 8\n",
    "0 11 42\n",
    "42 0 7\n",
    "57 7 4\n",
    "\n",
    "water-to-light map:\n",
    "88 18 7\n",
    "18 25 70\n",
    "\n",
    "light-to-temperature map:\n",
    "45 77 23\n",
    "81 45 19\n",
    "68 64 13\n",
    "\n",
    "temperature-to-humidity map:\n",
    "0 69 1\n",
    "1 0 69\n",
    "\n",
    "humidity-to-location map:\n",
    "60 56 37\n",
    "56 93 4\n",
    "```\n",
    "\n",
    "The rest of the almanac contains a list of maps which describe how to convert numbers from a source category into numbers in a destination category. That is, the section that starts with seed-to-soil map: describes how to convert a seed number (the source) to a soil number (the destination). This lets the gardener and his team know which soil to use with which seeds, which water to use with which fertilizer, and so on.\n",
    "\n",
    "\n",
    "**destination range start, the source range start, and the range length.**\n",
    "\n",
    "\n",
    "Consider again the example seed-to-soil map:\n",
    "```\n",
    "50 98 2  \n",
    "52 50 48  \n",
    "```\n",
    "The first line has a destination range start of 50, a source range start of 98, and a range length of 2. This line means that the source range starts at 98 and contains two values: 98 and 99. The destination range is the same length, but it starts at 50, so its two values are 50 and 51. With this information, you know that seed number 98 corresponds to soil number 50 and that seed number 99 corresponds to soil number 51.\n",
    "\n",
    "\n",
    "**Any source numbers that aren't mapped correspond to the same destination number. So, seed number 10 corresponds to soil number 10.**\n",
    "\n",
    "The gardener and his team want to get started as soon as possible, so they'd like to know the closest location that needs a seed. Using these maps, find the lowest location number that corresponds to any of the initial seeds. To do this, you'll need to convert each seed number through other categories until you can find its corresponding location number. In this example, the corresponding types are:\n",
    "\n",
    "Seed 79, soil 81, fertilizer 81, water 81, light 74, temperature 78, humidity 78, location 82.\n",
    "Seed 14, soil 14, fertilizer 53, water 49, light 42, temperature 42, humidity 43, location 43.\n",
    "Seed 55, soil 57, fertilizer 57, water 53, light 46, temperature 82, humidity 82, location 86.\n",
    "Seed 13, soil 13, fertilizer 52, water 41, light 34, temperature 34, humidity 35, location 35.\n",
    "So, the lowest location number in this example is 35.\n",
    "\n",
    "What is the lowest location number that corresponds to any of the initial seed numbers?"
   ]
  },
  {
   "cell_type": "code",
   "execution_count": null,
   "metadata": {},
   "outputs": [],
   "source": [
    "pwd"
   ]
  },
  {
   "cell_type": "code",
   "execution_count": 3,
   "metadata": {},
   "outputs": [],
   "source": [
    "import re\n",
    "import sys"
   ]
  },
  {
   "cell_type": "code",
   "execution_count": 18,
   "metadata": {},
   "outputs": [
    {
     "name": "stdout",
     "output_type": "stream",
     "text": [
      "seeds: 79 14 55 13\n",
      "\n",
      "\n",
      "\n",
      "seed-to-soil map:\n",
      "\n",
      "50 98 2\n",
      "\n",
      "52 50 48\n",
      "\n",
      "\n",
      "\n",
      "soil-to-fertilizer map:\n",
      "\n",
      "0 15 37\n",
      "\n",
      "37 52 2\n",
      "\n",
      "39 0 15\n",
      "\n",
      "\n",
      "\n",
      "fertilizer-to-water map:\n",
      "\n",
      "49 53 8\n",
      "\n",
      "0 11 42\n",
      "\n",
      "42 0 7\n",
      "\n",
      "57 7 4\n",
      "\n",
      "\n",
      "\n",
      "water-to-light map:\n",
      "\n",
      "88 18 7\n",
      "\n",
      "18 25 70\n",
      "\n",
      "\n",
      "\n",
      "light-to-temperature map:\n",
      "\n",
      "45 77 23\n",
      "\n",
      "81 45 19\n",
      "\n",
      "68 64 13\n",
      "\n",
      "\n",
      "\n",
      "temperature-to-humidity map:\n",
      "\n",
      "0 69 1\n",
      "\n",
      "1 0 69\n",
      "\n",
      "\n",
      "\n",
      "humidity-to-location map:\n",
      "\n",
      "60 56 37\n",
      "\n",
      "56 93 4\n"
     ]
    }
   ],
   "source": [
    "with open('ex.txt') as f:\n",
    "    for line in f.readlines():\n",
    "        print(line)\n",
    "        if 'seeds' in line:\n",
    "            pass\n",
    "        elif 'map' in line:\n",
    "            pass\n",
    "#             print(line)\n",
    "#             print(re.findall(\"(\\w*)-to-(\\w*) map:\", line)[0])\n",
    "        elif line.strip() == \"\":\n",
    "            pass\n",
    "#             print(\"BLANK LINE!!\")\n",
    "        else:\n",
    "            pass\n",
    "#             print([int(x) for x in line.split()])\n",
    "            "
   ]
  },
  {
   "cell_type": "code",
   "execution_count": null,
   "metadata": {},
   "outputs": [],
   "source": [
    "cur_map = {}\n",
    "dest_start, source_start, size = 50, 98, 2\n",
    "temp = dict(zip(range(dest_start, dest_start + size),\n",
    "                 range(source_start, source_start+size)\n",
    "            )\n",
    "        )\n",
    "cur_map = {**cur_map, **temp}\n",
    "cur_map"
   ]
  },
  {
   "cell_type": "code",
   "execution_count": null,
   "metadata": {},
   "outputs": [],
   "source": [
    "dest_start, source_start, size = 52, 50, 48\n",
    "temp = dict(zip(range(dest_start, dest_start + size),\n",
    "                 range(source_start, source_start+size)\n",
    "            )\n",
    "        )\n",
    "cur_map = {**cur_map, **temp}\n",
    "cur_map"
   ]
  },
  {
   "cell_type": "markdown",
   "metadata": {},
   "source": [
    "## Parse Input"
   ]
  },
  {
   "cell_type": "code",
   "execution_count": 68,
   "metadata": {},
   "outputs": [
    {
     "name": "stdout",
     "output_type": "stream",
     "text": [
      "\r",
      "On line: 1     \r",
      "On line: 2     \r",
      "On line: 3     \r",
      "On line: 4     \r",
      "On line: 5     \r",
      "On line: 6     \r",
      "On line: 7     \r",
      "On line: 8     \r",
      "On line: 9     \r",
      "On line: 10    \r",
      "On line: 11    \r",
      "On line: 12    \r",
      "On line: 13    \r",
      "On line: 14    \r",
      "On line: 15    \r",
      "On line: 16    \r",
      "On line: 17    \r",
      "On line: 18    \r",
      "On line: 19    \r",
      "On line: 20    \r",
      "On line: 21    \r",
      "On line: 22    \r",
      "On line: 23    \r",
      "On line: 24    \r",
      "On line: 25    \r",
      "On line: 26    \r",
      "On line: 27    \r",
      "On line: 28    \r",
      "On line: 29    \r",
      "On line: 30    \r",
      "On line: 31    \r",
      "On line: 32    \r",
      "On line: 33    4 [79, 14, 55, 13]\n",
      "dict_keys(['seed', 'soil', 'fertilizer', 'water', 'light', 'temperature', 'humidity'])\n"
     ]
    }
   ],
   "source": [
    "seeds = []\n",
    "maps = {}\n",
    "cur_map = None\n",
    "linecount = 0\n",
    "\n",
    "with open('ex.txt') as f:\n",
    "    for line in f.readlines():\n",
    "        linecount += 1\n",
    "        padding = \" \" * (6-len(str(linecount)))\n",
    "        sys.stdout.write(f\"\\rOn line: {linecount}{padding}\")\n",
    "        if linecount == 1:\n",
    "            #Get the seeds\n",
    "            seeds = [int(x) for x in line.strip(\"seeds: \").split()]\n",
    "        elif line.strip() == \"\":\n",
    "            #Blank Line\n",
    "            continue\n",
    "        elif \"map\" in line:\n",
    "            #Save the previous map, if exists\n",
    "            if cur_map:\n",
    "                maps[source] = cur_map\n",
    "            ranges = []\n",
    "            source, destination = re.findall(\"(\\w*)-to-(\\w*) map:\", line)[0]\n",
    "            cur_map = {'destination':destination,\n",
    "                       'ranges':ranges} #reset the current map\n",
    "            \n",
    "        else:\n",
    "            #Add to the current map\n",
    "            dest_start, source_start, size = [int(x) for x in line.split()]\n",
    "            ranges.append((source_start, dest_start, size))\n",
    "            #Don't do this: expensive!!\n",
    "#             temp = dict(zip(range(dest_start, dest_start + size),\n",
    "#                              range(source_start, source_start+size)\n",
    "#                             )\n",
    "#                         )\n",
    "#             cur_map = {**cur_map, **temp} #Add entries to current mapping.\n",
    "#Add the final mapping to location\n",
    "maps[source] = cur_map\n",
    "\n",
    "print(len(seeds), seeds)\n",
    "print(maps.keys())"
   ]
  },
  {
   "cell_type": "markdown",
   "metadata": {},
   "source": [
    "## Find the closest seed"
   ]
  },
  {
   "cell_type": "code",
   "execution_count": 69,
   "metadata": {},
   "outputs": [
    {
     "data": {
      "text/plain": [
       "{'destination': 'location', 'ranges': [(56, 60, 37), (93, 56, 4)]}"
      ]
     },
     "execution_count": 69,
     "metadata": {},
     "output_type": "execute_result"
    }
   ],
   "source": [
    "cur_map"
   ]
  },
  {
   "cell_type": "code",
   "execution_count": 70,
   "metadata": {},
   "outputs": [
    {
     "data": {
      "text/plain": [
       "'location'"
      ]
     },
     "execution_count": 70,
     "metadata": {},
     "output_type": "execute_result"
    }
   ],
   "source": [
    "cur_map['destination']"
   ]
  },
  {
   "cell_type": "code",
   "execution_count": 71,
   "metadata": {},
   "outputs": [
    {
     "data": {
      "text/plain": [
       "[(56, 60, 37), (93, 56, 4)]"
      ]
     },
     "execution_count": 71,
     "metadata": {},
     "output_type": "execute_result"
    }
   ],
   "source": [
    "cur_map['ranges']"
   ]
  },
  {
   "cell_type": "code",
   "execution_count": 72,
   "metadata": {},
   "outputs": [],
   "source": [
    "def get_location(source, number, maps=maps, to_print=False):\n",
    "    #keep going until you get a location....\n",
    "    cur_map = maps[source]\n",
    "    destination = cur_map['destination']\n",
    "    destination_number = None\n",
    "    for source_start, dest_start, size in cur_map['ranges']:\n",
    "        if (number >= source_start) & (number <= source_start+size):\n",
    "            offset = number - source_start\n",
    "            destination_number = dest_start + offset\n",
    "            break\n",
    "    if to_print:\n",
    "        if destination_number:\n",
    "            print(f\"{destination}: {destination_number}\")\n",
    "        else:\n",
    "            print(f\"{destination}: {number}\")\n",
    "    if destination == 'location':\n",
    "        if destination_number:\n",
    "            return destination_number\n",
    "        else:\n",
    "            return number\n",
    "    else:\n",
    "        if destination_number:\n",
    "            return get_location(destination, destination_number, to_print=to_print)\n",
    "        else:\n",
    "            return get_location(destination, number, to_print=to_print)\n",
    "            "
   ]
  },
  {
   "cell_type": "code",
   "execution_count": 73,
   "metadata": {},
   "outputs": [
    {
     "data": {
      "text/plain": [
       "{'seed': {'destination': 'soil', 'ranges': [(98, 50, 2), (50, 52, 48)]},\n",
       " 'soil': {'destination': 'fertilizer',\n",
       "  'ranges': [(15, 0, 37), (52, 37, 2), (0, 39, 15)]},\n",
       " 'fertilizer': {'destination': 'water',\n",
       "  'ranges': [(53, 49, 8), (11, 0, 42), (0, 42, 7), (7, 57, 4)]},\n",
       " 'water': {'destination': 'light', 'ranges': [(18, 88, 7), (25, 18, 70)]},\n",
       " 'light': {'destination': 'temperature',\n",
       "  'ranges': [(77, 45, 23), (45, 81, 19), (64, 68, 13)]},\n",
       " 'temperature': {'destination': 'humidity',\n",
       "  'ranges': [(69, 0, 1), (0, 1, 69)]},\n",
       " 'humidity': {'destination': 'location',\n",
       "  'ranges': [(56, 60, 37), (93, 56, 4)]}}"
      ]
     },
     "execution_count": 73,
     "metadata": {},
     "output_type": "execute_result"
    }
   ],
   "source": [
    "maps"
   ]
  },
  {
   "cell_type": "code",
   "execution_count": 74,
   "metadata": {},
   "outputs": [
    {
     "data": {
      "text/plain": [
       "{'destination': 'soil', 'ranges': [(98, 50, 2), (50, 52, 48)]}"
      ]
     },
     "execution_count": 74,
     "metadata": {},
     "output_type": "execute_result"
    }
   ],
   "source": [
    "cur_map = maps['seed']\n",
    "cur_map"
   ]
  },
  {
   "cell_type": "code",
   "execution_count": 75,
   "metadata": {},
   "outputs": [
    {
     "data": {
      "text/plain": [
       "'soil'"
      ]
     },
     "execution_count": 75,
     "metadata": {},
     "output_type": "execute_result"
    }
   ],
   "source": [
    "cur_map['destination']"
   ]
  },
  {
   "cell_type": "code",
   "execution_count": 76,
   "metadata": {},
   "outputs": [
    {
     "data": {
      "text/plain": [
       "82"
      ]
     },
     "execution_count": 76,
     "metadata": {},
     "output_type": "execute_result"
    }
   ],
   "source": [
    "get_location('seed',79)"
   ]
  },
  {
   "cell_type": "code",
   "execution_count": 77,
   "metadata": {},
   "outputs": [
    {
     "data": {
      "text/plain": [
       "[79, 14, 55, 13]"
      ]
     },
     "execution_count": 77,
     "metadata": {},
     "output_type": "execute_result"
    }
   ],
   "source": [
    "seeds"
   ]
  },
  {
   "cell_type": "code",
   "execution_count": 78,
   "metadata": {},
   "outputs": [
    {
     "name": "stdout",
     "output_type": "stream",
     "text": [
      "Seed: 79\n",
      "soil: 81\n",
      "fertilizer: 81\n",
      "water: 81\n",
      "light: 74\n",
      "temperature: 78\n",
      "humidity: 78\n",
      "location: 82\n",
      "\n",
      "\n",
      "Seed: 14\n",
      "soil: 14\n",
      "fertilizer: 53\n",
      "water: 49\n",
      "light: 42\n",
      "temperature: 42\n",
      "humidity: 43\n",
      "location: 43\n",
      "\n",
      "\n",
      "Seed: 55\n",
      "soil: 57\n",
      "fertilizer: 57\n",
      "water: 53\n",
      "light: 46\n",
      "temperature: 82\n",
      "humidity: 82\n",
      "location: 86\n",
      "\n",
      "\n",
      "Seed: 13\n",
      "soil: 13\n",
      "fertilizer: 52\n",
      "water: 41\n",
      "light: 34\n",
      "temperature: 34\n",
      "humidity: 35\n",
      "location: 35\n",
      "\n",
      "\n",
      "[(13, 35), (14, 43), (79, 82), (55, 86)]\n",
      "Closest seed: 13 location: 35\n"
     ]
    }
   ],
   "source": [
    "seedlocs = [] #[(seed1, loc1), (seed2, loc2),...(seedn,locn)]\n",
    "for seed in seeds:\n",
    "    print(f\"Seed: {seed}\")\n",
    "    location = get_location('seed', seed, to_print=True)\n",
    "    seedlocs.append((seed, location))\n",
    "    print(\"\\n\")\n",
    "seedlocs = sorted(seedlocs, key=lambda x: x[1])\n",
    "print(seedlocs)\n",
    "print(f\"Closest seed: {seedlocs[0][0]} location: {seedlocs[0][1]}\")"
   ]
  },
  {
   "cell_type": "markdown",
   "metadata": {},
   "source": [
    "## Final Run"
   ]
  },
  {
   "cell_type": "code",
   "execution_count": 66,
   "metadata": {},
   "outputs": [
    {
     "name": "stdout",
     "output_type": "stream",
     "text": [
      "\r",
      "On line: 1     \r",
      "On line: 2     \r",
      "On line: 3     \r",
      "On line: 4     \r",
      "On line: 5     \r",
      "On line: 6     \r",
      "On line: 7     \r",
      "On line: 8     \r",
      "On line: 9     \r",
      "On line: 10    \r",
      "On line: 11    \r",
      "On line: 12    \r",
      "On line: 13    \r",
      "On line: 14    \r",
      "On line: 15    \r",
      "On line: 16    \r",
      "On line: 17    \r",
      "On line: 18    \r",
      "On line: 19    \r",
      "On line: 20    \r",
      "On line: 21    \r",
      "On line: 22    \r",
      "On line: 23    \r",
      "On line: 24    \r",
      "On line: 25    \r",
      "On line: 26    \r",
      "On line: 27    \r",
      "On line: 28    \r",
      "On line: 29    \r",
      "On line: 30    \r",
      "On line: 31    \r",
      "On line: 32    \r",
      "On line: 33    \r",
      "On line: 34    \r",
      "On line: 35    \r",
      "On line: 36    \r",
      "On line: 37    \r",
      "On line: 38    \r",
      "On line: 39    \r",
      "On line: 40    \r",
      "On line: 41    \r",
      "On line: 42    \r",
      "On line: 43    \r",
      "On line: 44    \r",
      "On line: 45    \r",
      "On line: 46    \r",
      "On line: 47    \r",
      "On line: 48    \r",
      "On line: 49    \r",
      "On line: 50    \r",
      "On line: 51    \r",
      "On line: 52    \r",
      "On line: 53    \r",
      "On line: 54    \r",
      "On line: 55    \r",
      "On line: 56    \r",
      "On line: 57    \r",
      "On line: 58    \r",
      "On line: 59    \r",
      "On line: 60    \r",
      "On line: 61    \r",
      "On line: 62    \r",
      "On line: 63    \r",
      "On line: 64    \r",
      "On line: 65    \r",
      "On line: 66    \r",
      "On line: 67    \r",
      "On line: 68    \r",
      "On line: 69    \r",
      "On line: 70    \r",
      "On line: 71    \r",
      "On line: 72    \r",
      "On line: 73    \r",
      "On line: 74    \r",
      "On line: 75    \r",
      "On line: 76    \r",
      "On line: 77    \r",
      "On line: 78    \r",
      "On line: 79    \r",
      "On line: 80    \r",
      "On line: 81    \r",
      "On line: 82    \r",
      "On line: 83    \r",
      "On line: 84    \r",
      "On line: 85    \r",
      "On line: 86    \r",
      "On line: 87    \r",
      "On line: 88    \r",
      "On line: 89    \r",
      "On line: 90    \r",
      "On line: 91    \r",
      "On line: 92    \r",
      "On line: 93    \r",
      "On line: 94    \r",
      "On line: 95    \r",
      "On line: 96    \r",
      "On line: 97    \r",
      "On line: 98    \r",
      "On line: 99    \r",
      "On line: 100   \r",
      "On line: 101   \r",
      "On line: 102   \r",
      "On line: 103   \r",
      "On line: 104   \r",
      "On line: 105   \r",
      "On line: 106   \r",
      "On line: 107   \r",
      "On line: 108   \r",
      "On line: 109   \r",
      "On line: 110   \r",
      "On line: 111   \r",
      "On line: 112   \r",
      "On line: 113   \r",
      "On line: 114   \r",
      "On line: 115   \r",
      "On line: 116   \r",
      "On line: 117   \r",
      "On line: 118   \r",
      "On line: 119   \r",
      "On line: 120   \r",
      "On line: 121   \r",
      "On line: 122   \r",
      "On line: 123   \r",
      "On line: 124   \r",
      "On line: 125   \r",
      "On line: 126   \r",
      "On line: 127   \r",
      "On line: 128   \r",
      "On line: 129   \r",
      "On line: 130   \r",
      "On line: 131   \r",
      "On line: 132   \r",
      "On line: 133   \r",
      "On line: 134   \r",
      "On line: 135   \r",
      "On line: 136   \r",
      "On line: 137   \r",
      "On line: 138   \r",
      "On line: 139   \r",
      "On line: 140   \r",
      "On line: 141   \r",
      "On line: 142   \r",
      "On line: 143   \r",
      "On line: 144   \r",
      "On line: 145   \r",
      "On line: 146   \r",
      "On line: 147   \r",
      "On line: 148   \r",
      "On line: 149   \r",
      "On line: 150   \r",
      "On line: 151   \r",
      "On line: 152   \r",
      "On line: 153   \r",
      "On line: 154   \r",
      "On line: 155   \r",
      "On line: 156   \r",
      "On line: 157   \r",
      "On line: 158   \r",
      "On line: 159   \r",
      "On line: 160   \r",
      "On line: 161   \r",
      "On line: 162   \r",
      "On line: 163   \r",
      "On line: 164   \r",
      "On line: 165   \r",
      "On line: 166   \r",
      "On line: 167   \r",
      "On line: 168   \r",
      "On line: 169   \r",
      "On line: 170   \r",
      "On line: 171   \r",
      "On line: 172   \r",
      "On line: 173   \r",
      "On line: 174   \r",
      "On line: 175   \r",
      "On line: 176   \r",
      "On line: 177   \r",
      "On line: 178   \r",
      "On line: 179   \r",
      "On line: 180   \r",
      "On line: 181   \r",
      "On line: 182   \r",
      "On line: 183   \r",
      "On line: 184   \r",
      "On line: 185   \r",
      "On line: 186   \r",
      "On line: 187   \r",
      "On line: 188   \r",
      "On line: 189   \r",
      "On line: 190   \r",
      "On line: 191   \r",
      "On line: 192   \r",
      "On line: 193   \r",
      "On line: 194   \r",
      "On line: 195   \r",
      "On line: 196   \r",
      "On line: 197   20 [3082872446, 316680412, 2769223903, 74043323, 4131958457, 99539464, 109726392, 353536902, 619902767, 648714498, 3762874676, 148318192, 1545670780, 343889780, 4259893555, 6139816, 3980757676, 20172062, 2199623551, 196958359]\n",
      "dict_keys(['seed', 'soil', 'fertilizer', 'water', 'light', 'temperature', 'humidity'])\n",
      "[(6139816, 6139816), (20172062, 20172062), (74043323, 74043323), (99539464, 99539464), (109726392, 109726392), (148318192, 148318192), (196958359, 196958359), (316680412, 316680412), (343889780, 343889780), (353536902, 353536902), (619902767, 619902767), (648714498, 648714498), (1545670780, 1545670780), (2199623551, 2199623551), (2769223903, 2769223903), (3082872446, 3082872446), (3762874676, 3762874676), (3980757676, 3980757676), (4131958457, 4131958457), (4259893555, 4259893555)]\n",
      "Closest seed: 6139816 location: 6139816\n"
     ]
    }
   ],
   "source": [
    "seeds = []\n",
    "maps = {}\n",
    "cur_map = None\n",
    "linecount = 0\n",
    "\n",
    "with open('input.txt') as f:\n",
    "    for line in f.readlines():\n",
    "        linecount += 1\n",
    "        padding = \" \" * (6-len(str(linecount)))\n",
    "        sys.stdout.write(f\"\\rOn line: {linecount}{padding}\")\n",
    "        if linecount == 1:\n",
    "            #Get the seeds\n",
    "            seeds = [int(x) for x in line.strip(\"seeds: \").split()]\n",
    "        elif line.strip() == \"\":\n",
    "            #Blank Line\n",
    "            continue\n",
    "        elif \"map\" in line:\n",
    "            #Save the previous map, if exists\n",
    "            if cur_map:\n",
    "                maps[source] = cur_map\n",
    "            ranges = []\n",
    "            source, destination = re.findall(\"(\\w*)-to-(\\w*) map:\", line)[0]\n",
    "            cur_map = {'destination':destination,\n",
    "                       'ranges':ranges} #reset the current map\n",
    "            \n",
    "        else:\n",
    "            #Add to the current map\n",
    "            dest_start, source_start, size = [int(x) for x in line.split()]\n",
    "            ranges.append((source_start, dest_start, size))\n",
    "            #Don't do this: expensive!!\n",
    "#             temp = dict(zip(range(dest_start, dest_start + size),\n",
    "#                              range(source_start, source_start+size)\n",
    "#                             )\n",
    "#                         )\n",
    "#             cur_map = {**cur_map, **temp} #Add entries to current mapping.\n",
    "#Add the final mapping to location\n",
    "maps[source] = cur_map\n",
    "\n",
    "print(len(seeds), seeds)\n",
    "print(maps.keys())\n",
    "\n",
    "seedlocs = [] #[(seed1, loc1), (seed2, loc2),...(seedn,locn)]\n",
    "for seed in seeds:\n",
    "    #print(f\"Seed: {seed}\")\n",
    "    location = get_location('seed', seed, to_print=False)\n",
    "    seedlocs.append((seed, location))\n",
    "    #print(\"\\n\")\n",
    "seedlocs = sorted(seedlocs, key=lambda x: x[1])\n",
    "print(seedlocs)\n",
    "print(f\"Closest seed: {seedlocs[0][0]} location: {seedlocs[0][1]}\")"
   ]
  },
  {
   "cell_type": "code",
   "execution_count": null,
   "metadata": {},
   "outputs": [],
   "source": []
  }
 ],
 "metadata": {
  "kernelspec": {
   "display_name": "Python 3 (ipykernel)",
   "language": "python",
   "name": "python3"
  },
  "language_info": {
   "codemirror_mode": {
    "name": "ipython",
    "version": 3
   },
   "file_extension": ".py",
   "mimetype": "text/x-python",
   "name": "python",
   "nbconvert_exporter": "python",
   "pygments_lexer": "ipython3",
   "version": "3.7.4"
  }
 },
 "nbformat": 4,
 "nbformat_minor": 2
}
