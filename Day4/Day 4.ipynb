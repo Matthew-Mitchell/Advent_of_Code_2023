{
 "cells": [
  {
   "cell_type": "markdown",
   "metadata": {},
   "source": [
    "The almanac (your puzzle input) lists all of the seeds that need to be planted. It also lists what type of soil to use with each kind of seed, what type of fertilizer to use with each kind of soil, what type of water to use with each kind of fertilizer, and so on. Every type of seed, soil, fertilizer and so on is identified with a number, but numbers are reused by each category - that is, soil 123 and fertilizer 123 aren't necessarily related to each other.\n",
    "\n",
    "```\n",
    "seeds: 79 14 55 13\n",
    "\n",
    "seed-to-soil map:\n",
    "50 98 2\n",
    "52 50 48\n",
    "\n",
    "soil-to-fertilizer map:\n",
    "0 15 37\n",
    "37 52 2\n",
    "39 0 15\n",
    "\n",
    "fertilizer-to-water map:\n",
    "49 53 8\n",
    "0 11 42\n",
    "42 0 7\n",
    "57 7 4\n",
    "\n",
    "water-to-light map:\n",
    "88 18 7\n",
    "18 25 70\n",
    "\n",
    "light-to-temperature map:\n",
    "45 77 23\n",
    "81 45 19\n",
    "68 64 13\n",
    "\n",
    "temperature-to-humidity map:\n",
    "0 69 1\n",
    "1 0 69\n",
    "\n",
    "humidity-to-location map:\n",
    "60 56 37\n",
    "56 93 4\n",
    "```\n",
    "\n",
    "The rest of the almanac contains a list of maps which describe how to convert numbers from a source category into numbers in a destination category. That is, the section that starts with seed-to-soil map: describes how to convert a seed number (the source) to a soil number (the destination). This lets the gardener and his team know which soil to use with which seeds, which water to use with which fertilizer, and so on.\n",
    "\n",
    "\n",
    "**destination range start, the source range start, and the range length.**\n",
    "\n",
    "\n",
    "Consider again the example seed-to-soil map:\n",
    "```\n",
    "50 98 2  \n",
    "52 50 48  \n",
    "```\n",
    "The first line has a destination range start of 50, a source range start of 98, and a range length of 2. This line means that the source range starts at 98 and contains two values: 98 and 99. The destination range is the same length, but it starts at 50, so its two values are 50 and 51. With this information, you know that seed number 98 corresponds to soil number 50 and that seed number 99 corresponds to soil number 51.\n",
    "\n",
    "\n",
    "**Any source numbers that aren't mapped correspond to the same destination number. So, seed number 10 corresponds to soil number 10.**\n",
    "\n",
    "The gardener and his team want to get started as soon as possible, so they'd like to know the closest location that needs a seed. Using these maps, find the lowest location number that corresponds to any of the initial seeds. To do this, you'll need to convert each seed number through other categories until you can find its corresponding location number. In this example, the corresponding types are:\n",
    "\n",
    "Seed 79, soil 81, fertilizer 81, water 81, light 74, temperature 78, humidity 78, location 82.\n",
    "Seed 14, soil 14, fertilizer 53, water 49, light 42, temperature 42, humidity 43, location 43.\n",
    "Seed 55, soil 57, fertilizer 57, water 53, light 46, temperature 82, humidity 82, location 86.\n",
    "Seed 13, soil 13, fertilizer 52, water 41, light 34, temperature 34, humidity 35, location 35.\n",
    "So, the lowest location number in this example is 35.\n",
    "\n",
    "What is the lowest location number that corresponds to any of the initial seed numbers?"
   ]
  },
  {
   "cell_type": "code",
   "execution_count": null,
   "metadata": {},
   "outputs": [],
   "source": [
    "pwd"
   ]
  },
  {
   "cell_type": "code",
   "execution_count": 3,
   "metadata": {},
   "outputs": [],
   "source": [
    "import re\n",
    "import sys"
   ]
  },
  {
   "cell_type": "code",
   "execution_count": 18,
   "metadata": {},
   "outputs": [
    {
     "name": "stdout",
     "output_type": "stream",
     "text": [
      "seeds: 79 14 55 13\n",
      "\n",
      "\n",
      "\n",
      "seed-to-soil map:\n",
      "\n",
      "50 98 2\n",
      "\n",
      "52 50 48\n",
      "\n",
      "\n",
      "\n",
      "soil-to-fertilizer map:\n",
      "\n",
      "0 15 37\n",
      "\n",
      "37 52 2\n",
      "\n",
      "39 0 15\n",
      "\n",
      "\n",
      "\n",
      "fertilizer-to-water map:\n",
      "\n",
      "49 53 8\n",
      "\n",
      "0 11 42\n",
      "\n",
      "42 0 7\n",
      "\n",
      "57 7 4\n",
      "\n",
      "\n",
      "\n",
      "water-to-light map:\n",
      "\n",
      "88 18 7\n",
      "\n",
      "18 25 70\n",
      "\n",
      "\n",
      "\n",
      "light-to-temperature map:\n",
      "\n",
      "45 77 23\n",
      "\n",
      "81 45 19\n",
      "\n",
      "68 64 13\n",
      "\n",
      "\n",
      "\n",
      "temperature-to-humidity map:\n",
      "\n",
      "0 69 1\n",
      "\n",
      "1 0 69\n",
      "\n",
      "\n",
      "\n",
      "humidity-to-location map:\n",
      "\n",
      "60 56 37\n",
      "\n",
      "56 93 4\n"
     ]
    }
   ],
   "source": [
    "with open('ex.txt') as f:\n",
    "    for line in f.readlines():\n",
    "        print(line)\n",
    "        if 'seeds' in line:\n",
    "            pass\n",
    "        elif 'map' in line:\n",
    "            pass\n",
    "#             print(line)\n",
    "#             print(re.findall(\"(\\w*)-to-(\\w*) map:\", line)[0])\n",
    "        elif line.strip() == \"\":\n",
    "            pass\n",
    "#             print(\"BLANK LINE!!\")\n",
    "        else:\n",
    "            pass\n",
    "#             print([int(x) for x in line.split()])\n",
    "            "
   ]
  },
  {
   "cell_type": "code",
   "execution_count": null,
   "metadata": {},
   "outputs": [],
   "source": [
    "cur_map = {}\n",
    "dest_start, source_start, size = 50, 98, 2\n",
    "temp = dict(zip(range(dest_start, dest_start + size),\n",
    "                 range(source_start, source_start+size)\n",
    "            )\n",
    "        )\n",
    "cur_map = {**cur_map, **temp}\n",
    "cur_map"
   ]
  },
  {
   "cell_type": "code",
   "execution_count": null,
   "metadata": {},
   "outputs": [],
   "source": [
    "dest_start, source_start, size = 52, 50, 48\n",
    "temp = dict(zip(range(dest_start, dest_start + size),\n",
    "                 range(source_start, source_start+size)\n",
    "            )\n",
    "        )\n",
    "cur_map = {**cur_map, **temp}\n",
    "cur_map"
   ]
  },
  {
   "cell_type": "markdown",
   "metadata": {},
   "source": [
    "## Parse Input"
   ]
  },
  {
   "cell_type": "code",
   "execution_count": 68,
   "metadata": {},
   "outputs": [
    {
     "name": "stdout",
     "output_type": "stream",
     "text": [
      "\r",
      "On line: 1     \r",
      "On line: 2     \r",
      "On line: 3     \r",
      "On line: 4     \r",
      "On line: 5     \r",
      "On line: 6     \r",
      "On line: 7     \r",
      "On line: 8     \r",
      "On line: 9     \r",
      "On line: 10    \r",
      "On line: 11    \r",
      "On line: 12    \r",
      "On line: 13    \r",
      "On line: 14    \r",
      "On line: 15    \r",
      "On line: 16    \r",
      "On line: 17    \r",
      "On line: 18    \r",
      "On line: 19    \r",
      "On line: 20    \r",
      "On line: 21    \r",
      "On line: 22    \r",
      "On line: 23    \r",
      "On line: 24    \r",
      "On line: 25    \r",
      "On line: 26    \r",
      "On line: 27    \r",
      "On line: 28    \r",
      "On line: 29    \r",
      "On line: 30    \r",
      "On line: 31    \r",
      "On line: 32    \r",
      "On line: 33    4 [79, 14, 55, 13]\n",
      "dict_keys(['seed', 'soil', 'fertilizer', 'water', 'light', 'temperature', 'humidity'])\n"
     ]
    }
   ],
   "source": [
    "seeds = []\n",
    "maps = {}\n",
    "cur_map = None\n",
    "linecount = 0\n",
    "\n",
    "with open('ex.txt') as f:\n",
    "    for line in f.readlines():\n",
    "        linecount += 1\n",
    "        padding = \" \" * (6-len(str(linecount)))\n",
    "        sys.stdout.write(f\"\\rOn line: {linecount}{padding}\")\n",
    "        if linecount == 1:\n",
    "            #Get the seeds\n",
    "            seeds = [int(x) for x in line.strip(\"seeds: \").split()]\n",
    "        elif line.strip() == \"\":\n",
    "            #Blank Line\n",
    "            continue\n",
    "        elif \"map\" in line:\n",
    "            #Save the previous map, if exists\n",
    "            if cur_map:\n",
    "                maps[source] = cur_map\n",
    "            ranges = []\n",
    "            source, destination = re.findall(\"(\\w*)-to-(\\w*) map:\", line)[0]\n",
    "            cur_map = {'destination':destination,\n",
    "                       'ranges':ranges} #reset the current map\n",
    "            \n",
    "        else:\n",
    "            #Add to the current map\n",
    "            dest_start, source_start, size = [int(x) for x in line.split()]\n",
    "            ranges.append((source_start, dest_start, size))\n",
    "            #Don't do this: expensive!!\n",
    "#             temp = dict(zip(range(dest_start, dest_start + size),\n",
    "#                              range(source_start, source_start+size)\n",
    "#                             )\n",
    "#                         )\n",
    "#             cur_map = {**cur_map, **temp} #Add entries to current mapping.\n",
    "#Add the final mapping to location\n",
    "maps[source] = cur_map\n",
    "\n",
    "print(len(seeds), seeds)\n",
    "print(maps.keys())"
   ]
  },
  {
   "cell_type": "markdown",
   "metadata": {},
   "source": [
    "## Find the closest seed"
   ]
  },
  {
   "cell_type": "code",
   "execution_count": 69,
   "metadata": {},
   "outputs": [
    {
     "data": {
      "text/plain": [
       "{'destination': 'location', 'ranges': [(56, 60, 37), (93, 56, 4)]}"
      ]
     },
     "execution_count": 69,
     "metadata": {},
     "output_type": "execute_result"
    }
   ],
   "source": [
    "cur_map"
   ]
  },
  {
   "cell_type": "code",
   "execution_count": 70,
   "metadata": {},
   "outputs": [
    {
     "data": {
      "text/plain": [
       "'location'"
      ]
     },
     "execution_count": 70,
     "metadata": {},
     "output_type": "execute_result"
    }
   ],
   "source": [
    "cur_map['destination']"
   ]
  },
  {
   "cell_type": "code",
   "execution_count": 71,
   "metadata": {},
   "outputs": [
    {
     "data": {
      "text/plain": [
       "[(56, 60, 37), (93, 56, 4)]"
      ]
     },
     "execution_count": 71,
     "metadata": {},
     "output_type": "execute_result"
    }
   ],
   "source": [
    "cur_map['ranges']"
   ]
  },
  {
   "cell_type": "code",
   "execution_count": 84,
   "metadata": {},
   "outputs": [],
   "source": [
    "def get_location(source, number, maps=maps, to_print=False):\n",
    "    #keep going until you get a location....\n",
    "    cur_map = maps[source]\n",
    "    destination = cur_map['destination']\n",
    "    destination_number = None\n",
    "    for source_start, dest_start, size in cur_map['ranges']:\n",
    "        if (number >= source_start) & (number <= source_start+size):\n",
    "            offset = number - source_start\n",
    "            destination_number = dest_start + offset\n",
    "            break\n",
    "    if to_print:\n",
    "        if destination_number:\n",
    "            print(f\"{destination}: {destination_number}\")\n",
    "        else:\n",
    "            print(f\"{destination}: {number}\")\n",
    "    if destination == 'location':\n",
    "        if destination_number:\n",
    "            return destination_number\n",
    "        else:\n",
    "            return number\n",
    "    else:\n",
    "        if destination_number:\n",
    "            return get_location(destination, destination_number, maps=maps, to_print=to_print)\n",
    "        else:\n",
    "            return get_location(destination, number, maps=maps, to_print=to_print)\n",
    "            "
   ]
  },
  {
   "cell_type": "code",
   "execution_count": 73,
   "metadata": {},
   "outputs": [
    {
     "data": {
      "text/plain": [
       "{'seed': {'destination': 'soil', 'ranges': [(98, 50, 2), (50, 52, 48)]},\n",
       " 'soil': {'destination': 'fertilizer',\n",
       "  'ranges': [(15, 0, 37), (52, 37, 2), (0, 39, 15)]},\n",
       " 'fertilizer': {'destination': 'water',\n",
       "  'ranges': [(53, 49, 8), (11, 0, 42), (0, 42, 7), (7, 57, 4)]},\n",
       " 'water': {'destination': 'light', 'ranges': [(18, 88, 7), (25, 18, 70)]},\n",
       " 'light': {'destination': 'temperature',\n",
       "  'ranges': [(77, 45, 23), (45, 81, 19), (64, 68, 13)]},\n",
       " 'temperature': {'destination': 'humidity',\n",
       "  'ranges': [(69, 0, 1), (0, 1, 69)]},\n",
       " 'humidity': {'destination': 'location',\n",
       "  'ranges': [(56, 60, 37), (93, 56, 4)]}}"
      ]
     },
     "execution_count": 73,
     "metadata": {},
     "output_type": "execute_result"
    }
   ],
   "source": [
    "maps"
   ]
  },
  {
   "cell_type": "code",
   "execution_count": 74,
   "metadata": {},
   "outputs": [
    {
     "data": {
      "text/plain": [
       "{'destination': 'soil', 'ranges': [(98, 50, 2), (50, 52, 48)]}"
      ]
     },
     "execution_count": 74,
     "metadata": {},
     "output_type": "execute_result"
    }
   ],
   "source": [
    "cur_map = maps['seed']\n",
    "cur_map"
   ]
  },
  {
   "cell_type": "code",
   "execution_count": 75,
   "metadata": {},
   "outputs": [
    {
     "data": {
      "text/plain": [
       "'soil'"
      ]
     },
     "execution_count": 75,
     "metadata": {},
     "output_type": "execute_result"
    }
   ],
   "source": [
    "cur_map['destination']"
   ]
  },
  {
   "cell_type": "code",
   "execution_count": 76,
   "metadata": {},
   "outputs": [
    {
     "data": {
      "text/plain": [
       "82"
      ]
     },
     "execution_count": 76,
     "metadata": {},
     "output_type": "execute_result"
    }
   ],
   "source": [
    "get_location('seed',79)"
   ]
  },
  {
   "cell_type": "code",
   "execution_count": 77,
   "metadata": {},
   "outputs": [
    {
     "data": {
      "text/plain": [
       "[79, 14, 55, 13]"
      ]
     },
     "execution_count": 77,
     "metadata": {},
     "output_type": "execute_result"
    }
   ],
   "source": [
    "seeds"
   ]
  },
  {
   "cell_type": "code",
   "execution_count": 78,
   "metadata": {},
   "outputs": [
    {
     "name": "stdout",
     "output_type": "stream",
     "text": [
      "Seed: 79\n",
      "soil: 81\n",
      "fertilizer: 81\n",
      "water: 81\n",
      "light: 74\n",
      "temperature: 78\n",
      "humidity: 78\n",
      "location: 82\n",
      "\n",
      "\n",
      "Seed: 14\n",
      "soil: 14\n",
      "fertilizer: 53\n",
      "water: 49\n",
      "light: 42\n",
      "temperature: 42\n",
      "humidity: 43\n",
      "location: 43\n",
      "\n",
      "\n",
      "Seed: 55\n",
      "soil: 57\n",
      "fertilizer: 57\n",
      "water: 53\n",
      "light: 46\n",
      "temperature: 82\n",
      "humidity: 82\n",
      "location: 86\n",
      "\n",
      "\n",
      "Seed: 13\n",
      "soil: 13\n",
      "fertilizer: 52\n",
      "water: 41\n",
      "light: 34\n",
      "temperature: 34\n",
      "humidity: 35\n",
      "location: 35\n",
      "\n",
      "\n",
      "[(13, 35), (14, 43), (79, 82), (55, 86)]\n",
      "Closest seed: 13 location: 35\n"
     ]
    }
   ],
   "source": [
    "seedlocs = [] #[(seed1, loc1), (seed2, loc2),...(seedn,locn)]\n",
    "for seed in seeds:\n",
    "    print(f\"Seed: {seed}\")\n",
    "    location = get_location('seed', seed, to_print=True)\n",
    "    seedlocs.append((seed, location))\n",
    "    print(\"\\n\")\n",
    "seedlocs = sorted(seedlocs, key=lambda x: x[1])\n",
    "print(seedlocs)\n",
    "print(f\"Closest seed: {seedlocs[0][0]} location: {seedlocs[0][1]}\")"
   ]
  },
  {
   "cell_type": "markdown",
   "metadata": {},
   "source": [
    "## Final Run"
   ]
  },
  {
   "cell_type": "code",
   "execution_count": 85,
   "metadata": {},
   "outputs": [
    {
     "name": "stdout",
     "output_type": "stream",
     "text": [
      "20 Seeds:  [3082872446, 316680412, 2769223903, 74043323, 4131958457, 99539464, 109726392, 353536902, 619902767, 648714498, 3762874676, 148318192, 1545670780, 343889780, 4259893555, 6139816, 3980757676, 20172062, 2199623551, 196958359] \n",
      "\n",
      "dict_keys(['seed', 'soil', 'fertilizer', 'water', 'light', 'temperature', 'humidity']) \n",
      "\n",
      "[(316680412, 84470622), (3980757676, 136887475), (2769223903, 797022648), (2199623551, 970058274), (4259893555, 1061720983), (3082872446, 1085436433), (148318192, 1175734550), (6139816, 1611747764), (20172062, 1625780010), (648714498, 2450588295), (4131958457, 2473940599), (1545670780, 2761597611), (343889780, 2828186651), (353536902, 2837833773), (74043323, 3040934752), (99539464, 3066430893), (109726392, 3076617821), (3762874676, 3210752671), (619902767, 4058019656), (196958359, 4099273491)] \n",
      "\n",
      "\n",
      "Closest seed: 316680412 location: 84470622\n"
     ]
    }
   ],
   "source": [
    "seeds = []\n",
    "maps = {}\n",
    "cur_map = None\n",
    "linecount = 0\n",
    "\n",
    "with open('input.txt') as f:\n",
    "    for line in f.readlines():\n",
    "        linecount += 1\n",
    "        padding = \" \" * (6-len(str(linecount)))\n",
    "        #sys.stdout.write(f\"\\rOn line: {linecount}{padding}\")\n",
    "        if linecount == 1:\n",
    "            #Get the seeds\n",
    "            seeds = [int(x) for x in line.strip(\"seeds: \").split()]\n",
    "        elif line.strip() == \"\":\n",
    "            #Blank Line\n",
    "            continue\n",
    "        elif \"map\" in line:\n",
    "            #Save the previous map, if exists\n",
    "            if cur_map:\n",
    "                maps[source] = cur_map\n",
    "            ranges = []\n",
    "            source, destination = re.findall(\"(\\w*)-to-(\\w*) map:\", line)[0]\n",
    "            cur_map = {'destination':destination,\n",
    "                       'ranges':ranges} #reset the current map\n",
    "            \n",
    "        else:\n",
    "            #Add to the current map\n",
    "            dest_start, source_start, size = [int(x) for x in line.split()]\n",
    "            ranges.append((source_start, dest_start, size))\n",
    "            #Don't do this: expensive!!\n",
    "#             temp = dict(zip(range(dest_start, dest_start + size),\n",
    "#                              range(source_start, source_start+size)\n",
    "#                             )\n",
    "#                         )\n",
    "#             cur_map = {**cur_map, **temp} #Add entries to current mapping.\n",
    "#Add the final mapping to location\n",
    "maps[source] = cur_map\n",
    "\n",
    "print(len(seeds), 'Seeds: ', seeds, '\\n')\n",
    "print(maps.keys(), '\\n')\n",
    "\n",
    "seedlocs = [] #[(seed1, loc1), (seed2, loc2),...(seedn,locn)]\n",
    "for seed in seeds:\n",
    "    #print(f\"Seed: {seed}\")\n",
    "    location = get_location('seed', seed, maps=maps, to_print=False)\n",
    "    seedlocs.append((seed, location))\n",
    "    #print(\"\\n\")\n",
    "seedlocs = sorted(seedlocs, key=lambda x: x[1])\n",
    "print(seedlocs, '\\n\\n')\n",
    "print(f\"Closest seed: {seedlocs[0][0]} location: {seedlocs[0][1]}\")"
   ]
  },
  {
   "cell_type": "code",
   "execution_count": null,
   "metadata": {},
   "outputs": [],
   "source": []
  }
 ],
 "metadata": {
  "kernelspec": {
   "display_name": "Python 3 (ipykernel)",
   "language": "python",
   "name": "python3"
  },
  "language_info": {
   "codemirror_mode": {
    "name": "ipython",
    "version": 3
   },
   "file_extension": ".py",
   "mimetype": "text/x-python",
   "name": "python",
   "nbconvert_exporter": "python",
   "pygments_lexer": "ipython3",
   "version": "3.7.4"
  }
 },
 "nbformat": 4,
 "nbformat_minor": 2
}
